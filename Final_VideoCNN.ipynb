{
  "cells": [
    {
      "cell_type": "code",
      "execution_count": null,
      "metadata": {
        "colab": {
          "background_save": true,
          "base_uri": "https://localhost:8080/"
        },
        "id": "KfaMrIDiiLjh",
        "outputId": "b6b63abf-a232-463e-9db4-7cb41786eb5d"
      },
      "outputs": [
        {
          "name": "stdout",
          "output_type": "stream",
          "text": [
            "Warning: Looks like you're using an outdated `kagglehub` version, please consider updating (latest version: 0.3.5)\n",
            "Downloading from https://www.kaggle.com/api/v1/datasets/download/risangbaskoro/wlasl-processed?dataset_version_number=5...\n"
          ]
        },
        {
          "name": "stderr",
          "output_type": "stream",
          "text": [
            " 22%|██▏       | 1.04G/4.82G [00:13<00:35, 114MB/s]"
          ]
        }
      ],
      "source": [
        "import kagglehub\n",
        "risangbaskoro_wlasl_processed_path = kagglehub.dataset_download('risangbaskoro/wlasl-processed')\n",
        "\n",
        "print('Data source import complete.')\n"
      ]
    },
    {
      "cell_type": "code",
      "execution_count": null,
      "metadata": {
        "colab": {
          "base_uri": "https://localhost:8080/"
        },
        "id": "8kcWOp9CiLjj",
        "outputId": "a2aff89c-4b4e-4b30-ae26-e0cab861718f"
      },
      "outputs": [
        {
          "name": "stdout",
          "output_type": "stream",
          "text": [
            "Collecting mediapipe\n",
            "  Downloading mediapipe-0.10.20-cp310-cp310-manylinux_2_28_x86_64.whl.metadata (9.7 kB)\n",
            "Requirement already satisfied: absl-py in /usr/local/lib/python3.10/dist-packages (from mediapipe) (1.4.0)\n",
            "Requirement already satisfied: attrs>=19.1.0 in /usr/local/lib/python3.10/dist-packages (from mediapipe) (24.2.0)\n",
            "Requirement already satisfied: flatbuffers>=2.0 in /usr/local/lib/python3.10/dist-packages (from mediapipe) (24.3.25)\n",
            "Requirement already satisfied: jax in /usr/local/lib/python3.10/dist-packages (from mediapipe) (0.4.33)\n",
            "Requirement already satisfied: jaxlib in /usr/local/lib/python3.10/dist-packages (from mediapipe) (0.4.33)\n",
            "Requirement already satisfied: matplotlib in /usr/local/lib/python3.10/dist-packages (from mediapipe) (3.8.0)\n",
            "Requirement already satisfied: numpy<2 in /usr/local/lib/python3.10/dist-packages (from mediapipe) (1.26.4)\n",
            "Requirement already satisfied: opencv-contrib-python in /usr/local/lib/python3.10/dist-packages (from mediapipe) (4.10.0.84)\n",
            "Requirement already satisfied: protobuf<5,>=4.25.3 in /usr/local/lib/python3.10/dist-packages (from mediapipe) (4.25.5)\n",
            "Collecting sounddevice>=0.4.4 (from mediapipe)\n",
            "  Downloading sounddevice-0.5.1-py3-none-any.whl.metadata (1.4 kB)\n",
            "Requirement already satisfied: sentencepiece in /usr/local/lib/python3.10/dist-packages (from mediapipe) (0.2.0)\n",
            "Requirement already satisfied: CFFI>=1.0 in /usr/local/lib/python3.10/dist-packages (from sounddevice>=0.4.4->mediapipe) (1.17.1)\n",
            "Requirement already satisfied: ml-dtypes>=0.2.0 in /usr/local/lib/python3.10/dist-packages (from jax->mediapipe) (0.4.1)\n",
            "Requirement already satisfied: opt-einsum in /usr/local/lib/python3.10/dist-packages (from jax->mediapipe) (3.4.0)\n",
            "Requirement already satisfied: scipy>=1.10 in /usr/local/lib/python3.10/dist-packages (from jax->mediapipe) (1.13.1)\n",
            "Requirement already satisfied: contourpy>=1.0.1 in /usr/local/lib/python3.10/dist-packages (from matplotlib->mediapipe) (1.3.1)\n",
            "Requirement already satisfied: cycler>=0.10 in /usr/local/lib/python3.10/dist-packages (from matplotlib->mediapipe) (0.12.1)\n",
            "Requirement already satisfied: fonttools>=4.22.0 in /usr/local/lib/python3.10/dist-packages (from matplotlib->mediapipe) (4.55.3)\n",
            "Requirement already satisfied: kiwisolver>=1.0.1 in /usr/local/lib/python3.10/dist-packages (from matplotlib->mediapipe) (1.4.7)\n",
            "Requirement already satisfied: packaging>=20.0 in /usr/local/lib/python3.10/dist-packages (from matplotlib->mediapipe) (24.2)\n",
            "Requirement already satisfied: pillow>=6.2.0 in /usr/local/lib/python3.10/dist-packages (from matplotlib->mediapipe) (11.0.0)\n",
            "Requirement already satisfied: pyparsing>=2.3.1 in /usr/local/lib/python3.10/dist-packages (from matplotlib->mediapipe) (3.2.0)\n",
            "Requirement already satisfied: python-dateutil>=2.7 in /usr/local/lib/python3.10/dist-packages (from matplotlib->mediapipe) (2.8.2)\n",
            "Requirement already satisfied: pycparser in /usr/local/lib/python3.10/dist-packages (from CFFI>=1.0->sounddevice>=0.4.4->mediapipe) (2.22)\n",
            "Requirement already satisfied: six>=1.5 in /usr/local/lib/python3.10/dist-packages (from python-dateutil>=2.7->matplotlib->mediapipe) (1.17.0)\n",
            "Downloading mediapipe-0.10.20-cp310-cp310-manylinux_2_28_x86_64.whl (35.6 MB)\n",
            "\u001b[2K   \u001b[90m━━━━━━━━━━━━━━━━━━━━━━━━━━━━━━━━━━━━━━━━\u001b[0m \u001b[32m35.6/35.6 MB\u001b[0m \u001b[31m16.5 MB/s\u001b[0m eta \u001b[36m0:00:00\u001b[0m\n",
            "\u001b[?25hDownloading sounddevice-0.5.1-py3-none-any.whl (32 kB)\n",
            "Installing collected packages: sounddevice, mediapipe\n",
            "Successfully installed mediapipe-0.10.20 sounddevice-0.5.1\n"
          ]
        }
      ],
      "source": [
        "pip install mediapipe"
      ]
    },
    {
      "cell_type": "code",
      "execution_count": null,
      "metadata": {
        "colab": {
          "base_uri": "https://localhost:8080/"
        },
        "id": "65J1T4bKiLjj",
        "outputId": "eb002579-2122-43d4-eee0-1e42fff38e53"
      },
      "outputs": [
        {
          "name": "stdout",
          "output_type": "stream",
          "text": [
            "9103\n",
            "[{'bbox': [385, 37, 885, 720], 'fps': 25, 'frame_end': -1, 'frame_start': 1, 'instance_id': 0, 'signer_id': 118, 'source': 'aslbrick', 'split': 'train', 'url': 'http://aslbricks.org/New/ASL-Videos/book.mp4', 'variation_id': 0, 'video_id': '69241'}, {'bbox': [190, 25, 489, 370], 'fps': 25, 'frame_end': -1, 'frame_start': 1, 'instance_id': 1, 'signer_id': 90, 'source': 'aslsignbank', 'split': 'train', 'url': 'https://aslsignbank.haskins.yale.edu/dictionary/protected_media/glossvideo/ASL/BO/BOOK-418.mp4', 'variation_id': 0, 'video_id': '65225'}, {'bbox': [262, 1, 652, 480], 'fps': 25, 'frame_end': -1, 'frame_start': 1, 'instance_id': 2, 'signer_id': 110, 'source': 'valencia-asl', 'split': 'train', 'url': 'https://www.youtube.com/watch?v=0UsjUE-TXns', 'variation_id': 0, 'video_id': '68011'}, {'bbox': [123, 19, 516, 358], 'fps': 25, 'frame_end': 60, 'frame_start': 1, 'instance_id': 3, 'signer_id': 113, 'source': 'lillybauer', 'split': 'train', 'url': 'https://www.youtube.com/watch?v=1QOYOZ3g-aY', 'variation_id': 0, 'video_id': '68208'}, {'bbox': [95, 0, 1180, 720], 'fps': 25, 'frame_end': -1, 'frame_start': 1, 'instance_id': 4, 'signer_id': 109, 'source': 'valencia-asl', 'split': 'train', 'url': 'https://www.youtube.com/watch?v=aGtIHKEdCds', 'variation_id': 0, 'video_id': '68012'}, {'bbox': [110, 25, 274, 240], 'fps': 25, 'frame_end': 2249, 'frame_start': 2150, 'instance_id': 5, 'signer_id': 121, 'source': 'northtexas', 'split': 'val', 'url': 'https://www.youtube.com/watch?v=hjS0dQDgbjo', 'variation_id': 0, 'video_id': '70212'}, {'bbox': [153, 38, 395, 360], 'fps': 25, 'frame_end': 3852, 'frame_start': 3732, 'instance_id': 6, 'signer_id': 121, 'source': 'northtexas', 'split': 'train', 'url': 'https://www.youtube.com/watch?v=WGfiiDgrq1I', 'variation_id': 0, 'video_id': '70266'}, {'bbox': [16, 2, 235, 240], 'fps': 25, 'frame_end': -1, 'frame_start': 1, 'instance_id': 7, 'signer_id': 49, 'source': 'aslpro', 'split': 'train', 'url': 'http://www.aslpro.com/main/b/book_english_grammar.swf', 'variation_id': 0, 'video_id': '07085'}, {'bbox': [16, 4, 239, 240], 'fps': 25, 'frame_end': -1, 'frame_start': 1, 'instance_id': 8, 'signer_id': 49, 'source': 'aslpro', 'split': 'train', 'url': 'http://www.aslpro.com/main/b/book_geography.swf', 'variation_id': 0, 'video_id': '07086'}, {'bbox': [8, 1, 253, 240], 'fps': 25, 'frame_end': -1, 'frame_start': 1, 'instance_id': 9, 'signer_id': 18, 'source': 'aslpro', 'split': 'train', 'url': 'http://www.aslpro.com/main/b/book_geometry.swf', 'variation_id': 0, 'video_id': '07087'}, {'bbox': [462, 44, 949, 720], 'fps': 25, 'frame_end': -1, 'frame_start': 1, 'instance_id': 10, 'signer_id': 31, 'source': 'signschool', 'split': 'train', 'url': 'https://signstock.blob.core.windows.net/signschool/videos/SignSchool%20Book.mp4', 'variation_id': 0, 'video_id': '07069'}, {'bbox': [29, 4, 227, 240], 'fps': 25, 'frame_end': -1, 'frame_start': 1, 'instance_id': 11, 'signer_id': 18, 'source': 'aslpro', 'split': 'train', 'url': 'http://www.aslpro.com/main/b/book_history.swf', 'variation_id': 0, 'video_id': '07088'}, {'bbox': [22, 0, 226, 240], 'fps': 25, 'frame_end': -1, 'frame_start': 1, 'instance_id': 12, 'signer_id': 18, 'source': 'aslpro', 'split': 'train', 'url': 'http://www.aslpro.com/main/b/book_law.swf', 'variation_id': 0, 'video_id': '07089'}, {'bbox': [34, 2, 229, 240], 'fps': 25, 'frame_end': -1, 'frame_start': 1, 'instance_id': 13, 'signer_id': 18, 'source': 'aslpro', 'split': 'train', 'url': 'http://www.aslpro.com/main/b/book_literature.swf', 'variation_id': 0, 'video_id': '07090'}, {'bbox': [23, 1, 226, 240], 'fps': 25, 'frame_end': -1, 'frame_start': 1, 'instance_id': 14, 'signer_id': 18, 'source': 'aslpro', 'split': 'train', 'url': 'http://www.aslpro.com/main/b/book_math.swf', 'variation_id': 0, 'video_id': '07091'}, {'bbox': [31, 4, 220, 240], 'fps': 25, 'frame_end': -1, 'frame_start': 1, 'instance_id': 15, 'signer_id': 49, 'source': 'aslpro', 'split': 'test', 'url': 'http://www.aslpro.com/main/b/book_medicine.swf', 'variation_id': 0, 'video_id': '07092'}, {'bbox': [25, 0, 220, 240], 'fps': 25, 'frame_end': -1, 'frame_start': 1, 'instance_id': 16, 'signer_id': 18, 'source': 'aslpro', 'split': 'test', 'url': 'http://www.aslpro.com/main/b/book_music.swf', 'variation_id': 0, 'video_id': '07093'}, {'bbox': [234, 17, 524, 414], 'fps': 25, 'frame_end': -1, 'frame_start': 1, 'instance_id': 17, 'signer_id': 36, 'source': 'startasl', 'split': 'train', 'url': 'https://s3-us-west-1.amazonaws.com/files.startasl.com/asldictionary/book.mp4', 'variation_id': 0, 'video_id': '07068'}, {'bbox': [22, 2, 231, 240], 'fps': 25, 'frame_end': -1, 'frame_start': 1, 'instance_id': 18, 'signer_id': 18, 'source': 'aslpro', 'split': 'val', 'url': 'http://www.aslpro.com/main/b/book_photography.swf', 'variation_id': 0, 'video_id': '07094'}, {'bbox': [3, 2, 260, 240], 'fps': 25, 'frame_end': -1, 'frame_start': 1, 'instance_id': 19, 'signer_id': 18, 'source': 'aslpro', 'split': 'test', 'url': 'http://www.aslpro.com/main/b/book_science.swf', 'variation_id': 0, 'video_id': '07095'}, {'bbox': [21, 2, 228, 240], 'fps': 25, 'frame_end': -1, 'frame_start': 1, 'instance_id': 20, 'signer_id': 18, 'source': 'aslpro', 'split': 'val', 'url': 'http://www.aslpro.com/main/b/book_spelling.swf', 'variation_id': 0, 'video_id': '07096'}, {'bbox': [26, 3, 226, 240], 'fps': 25, 'frame_end': -1, 'frame_start': 1, 'instance_id': 21, 'signer_id': 49, 'source': 'aslpro', 'split': 'train', 'url': 'http://www.aslpro.com/main/b/book.swf', 'variation_id': 0, 'video_id': '07097'}, {'bbox': [131, 26, 526, 480], 'fps': 25, 'frame_end': -1, 'frame_start': 1, 'instance_id': 22, 'signer_id': 59, 'source': 'asldeafined', 'split': 'train', 'url': 'https://media.asldeafined.com/vocabulary/1466684225.687.mp4', 'variation_id': 0, 'video_id': '07070'}, {'bbox': [21, 3, 231, 240], 'fps': 25, 'frame_end': -1, 'frame_start': 1, 'instance_id': 23, 'signer_id': 18, 'source': 'aslpro', 'split': 'val', 'url': 'http://www.aslpro.com/main/b/book_trigonometry.swf', 'variation_id': 0, 'video_id': '07098'}, {'bbox': [162, 54, 528, 400], 'fps': 25, 'frame_end': -1, 'frame_start': 1, 'instance_id': 24, 'signer_id': 12, 'source': 'aslsearch', 'split': 'val', 'url': 'http://www.aslsearch.com/signs/videos/book.mp4', 'variation_id': 0, 'video_id': '07099'}, {'bbox': [70, 0, 268, 240], 'fps': 25, 'frame_end': -1, 'frame_start': 1, 'instance_id': 25, 'signer_id': 14, 'source': 'handspeak', 'split': 'train', 'url': 'https://www.handspeak.com/word/b/book2.mp4', 'variation_id': 0, 'video_id': '07071'}, {'bbox': [75, 0, 270, 240], 'fps': 25, 'frame_end': -1, 'frame_start': 1, 'instance_id': 26, 'signer_id': 14, 'source': 'handspeak', 'split': 'test', 'url': 'https://www.handspeak.com/word/b/book.mp4', 'variation_id': 0, 'video_id': '07072'}, {'bbox': [64, 0, 273, 240], 'fps': 25, 'frame_end': -1, 'frame_start': 1, 'instance_id': 27, 'signer_id': 14, 'source': 'handspeak', 'split': 'train', 'url': 'https://www.handspeak.com/word/b/books-pile.mp4', 'variation_id': 0, 'video_id': '07073'}, {'bbox': [128, 20, 383, 360], 'fps': 25, 'frame_end': -1, 'frame_start': 1, 'instance_id': 28, 'signer_id': 109, 'source': 'asllex', 'split': 'train', 'url': 'https://youtu.be/3-GrhsVs830', 'variation_id': 0, 'video_id': '67424'}, {'bbox': [82, 11, 212, 192], 'fps': 25, 'frame_end': -1, 'frame_start': 1, 'instance_id': 29, 'signer_id': 11, 'source': 'signingsavvy', 'split': 'train', 'url': 'https://www.signingsavvy.com/signs/mp4/14/14326.mp4', 'variation_id': 0, 'video_id': '07074'}, {'bbox': [386, 48, 942, 720], 'fps': 25, 'frame_end': -1, 'frame_start': 1, 'instance_id': 30, 'signer_id': 5, 'source': 'aslu', 'split': 'train', 'url': 'https://www.youtube.com/watch?v=Kwvw-K6GYW8', 'variation_id': 0, 'video_id': '07075'}, {'bbox': [362, 43, 945, 720], 'fps': 25, 'frame_end': -1, 'frame_start': 1, 'instance_id': 31, 'signer_id': 5, 'source': 'aslu', 'split': 'train', 'url': 'https://www.youtube.com/watch?v=XjWSfh50kAU', 'variation_id': 0, 'video_id': '07076'}, {'bbox': [25, 4, 223, 240], 'fps': 25, 'frame_end': -1, 'frame_start': 1, 'instance_id': 32, 'signer_id': 49, 'source': 'aslpro', 'split': 'train', 'url': 'http://www.aslpro.com/main/b/book_accounting.swf', 'variation_id': 0, 'video_id': '07077'}, {'bbox': [28, 4, 226, 240], 'fps': 25, 'frame_end': -1, 'frame_start': 1, 'instance_id': 33, 'signer_id': 18, 'source': 'aslpro', 'split': 'train', 'url': 'http://www.aslpro.com/main/b/book_algebra.swf', 'variation_id': 0, 'video_id': '07078'}, {'bbox': [15, 2, 238, 240], 'fps': 25, 'frame_end': -1, 'frame_start': 1, 'instance_id': 34, 'signer_id': 49, 'source': 'aslpro', 'split': 'train', 'url': 'http://www.aslpro.com/main/b/book_anatomy.swf', 'variation_id': 0, 'video_id': '07079'}, {'bbox': [28, 2, 226, 240], 'fps': 25, 'frame_end': -1, 'frame_start': 1, 'instance_id': 35, 'signer_id': 18, 'source': 'aslpro', 'split': 'train', 'url': 'http://www.aslpro.com/main/b/book_art_history.swf', 'variation_id': 0, 'video_id': '07080'}, {'bbox': [23, 2, 226, 240], 'fps': 25, 'frame_end': -1, 'frame_start': 1, 'instance_id': 36, 'signer_id': 18, 'source': 'aslpro', 'split': 'train', 'url': 'http://www.aslpro.com/main/b/book_art.swf', 'variation_id': 0, 'video_id': '07081'}, {'bbox': [30, 3, 228, 240], 'fps': 25, 'frame_end': -1, 'frame_start': 1, 'instance_id': 37, 'signer_id': 18, 'source': 'aslpro', 'split': 'train', 'url': 'http://www.aslpro.com/main/b/book_business.swf', 'variation_id': 0, 'video_id': '07082'}, {'bbox': [0, 3, 260, 240], 'fps': 25, 'frame_end': -1, 'frame_start': 1, 'instance_id': 38, 'signer_id': 18, 'source': 'aslpro', 'split': 'val', 'url': 'http://www.aslpro.com/main/b/book_chemistry.swf', 'variation_id': 0, 'video_id': '07083'}, {'bbox': [29, 4, 225, 240], 'fps': 25, 'frame_end': -1, 'frame_start': 1, 'instance_id': 39, 'signer_id': 18, 'source': 'aslpro', 'split': 'train', 'url': 'http://www.aslpro.com/main/b/book_coloring.swf', 'variation_id': 0, 'video_id': '07084'}]\n"
          ]
        },
        {
          "name": "stderr",
          "output_type": "stream",
          "text": [
            "  2%|▎         | 1/40 [00:01<00:39,  1.02s/it]"
          ]
        },
        {
          "name": "stdout",
          "output_type": "stream",
          "text": [
            "train 69241\n"
          ]
        },
        {
          "name": "stderr",
          "output_type": "stream",
          "text": [
            "\r 28%|██▊       | 11/40 [00:01<00:03,  8.99it/s]"
          ]
        },
        {
          "name": "stdout",
          "output_type": "stream",
          "text": [
            "train 07069\n"
          ]
        },
        {
          "name": "stderr",
          "output_type": "stream",
          "text": [
            "\r 45%|████▌     | 18/40 [00:01<00:01, 11.88it/s]"
          ]
        },
        {
          "name": "stdout",
          "output_type": "stream",
          "text": [
            "train 07068\n"
          ]
        },
        {
          "name": "stderr",
          "output_type": "stream",
          "text": [
            "\r 57%|█████▊    | 23/40 [00:02<00:01, 13.03it/s]"
          ]
        },
        {
          "name": "stdout",
          "output_type": "stream",
          "text": [
            "train 07070\n"
          ]
        },
        {
          "name": "stderr",
          "output_type": "stream",
          "text": [
            "100%|██████████| 40/40 [00:02<00:00, 15.46it/s]\n"
          ]
        },
        {
          "name": "stdout",
          "output_type": "stream",
          "text": [
            "test 07099\n",
            "train 07074\n",
            "[{'bbox': [551, 68, 1350, 1080], 'fps': 25, 'frame_end': -1, 'frame_start': 1, 'instance_id': 0, 'signer_id': 115, 'source': 'aslbrick', 'split': 'val', 'url': 'http://aslbricks.org/New/ASL-Videos/drink.mp4', 'variation_id': 0, 'video_id': '69302'}, {'bbox': [153, 11, 488, 370], 'fps': 25, 'frame_end': -1, 'frame_start': 1, 'instance_id': 1, 'signer_id': 94, 'source': 'aslsignbank', 'split': 'train', 'url': 'https://aslsignbank.haskins.yale.edu/dictionary/protected_media/glossvideo/ASL/DR/DRINK-119.mp4', 'variation_id': 0, 'video_id': '65539'}, {'bbox': [142, 20, 501, 480], 'fps': 25, 'frame_end': 5831, 'frame_start': 5710, 'instance_id': 2, 'signer_id': 121, 'source': 'northtexas', 'split': 'val', 'url': 'https://www.youtube.com/watch?v=F5Wef1_PtLk', 'variation_id': 0, 'video_id': '70173'}, {'bbox': [112, 13, 529, 356], 'fps': 25, 'frame_end': 71, 'frame_start': 1, 'instance_id': 3, 'signer_id': 113, 'source': 'lillybauer', 'split': 'val', 'url': 'https://www.youtube.com/watch?v=HZMTQJdBZ9g', 'variation_id': 0, 'video_id': '68538'}, {'bbox': [110, 0, 1160, 720], 'fps': 25, 'frame_end': -1, 'frame_start': 1, 'instance_id': 4, 'signer_id': 109, 'source': 'valencia-asl', 'split': 'val', 'url': 'https://www.youtube.com/watch?v=KRc_WYI1DgA', 'variation_id': 0, 'video_id': '68042'}, {'bbox': [312, 19, 908, 720], 'fps': 25, 'frame_end': 54, 'frame_start': 1, 'instance_id': 5, 'signer_id': 115, 'source': 'lillybauer', 'split': 'train', 'url': 'https://www.youtube.com/watch?v=Lk2Vws8homw', 'variation_id': 0, 'video_id': '68660'}, {'bbox': [116, 0, 1166, 720], 'fps': 25, 'frame_end': -1, 'frame_start': 1, 'instance_id': 6, 'signer_id': 109, 'source': 'valencia-asl', 'split': 'train', 'url': 'https://www.youtube.com/watch?v=Nc7rSopCpI8', 'variation_id': 0, 'video_id': '68041'}, {'bbox': [300, 63, 882, 720], 'fps': 25, 'frame_end': -1, 'frame_start': 1, 'instance_id': 7, 'signer_id': 5, 'source': 'aslu', 'split': 'train', 'url': 'https://www.youtube.com/watch?v=537MWOtCl78', 'variation_id': 0, 'video_id': '17725'}, {'bbox': [318, 29, 951, 720], 'fps': 25, 'frame_end': -1, 'frame_start': 1, 'instance_id': 8, 'signer_id': 5, 'source': 'aslu', 'split': 'train', 'url': 'https://www.youtube.com/watch?v=6gU3Ln98sWA', 'variation_id': 0, 'video_id': '17726'}, {'bbox': [232, 55, 838, 720], 'fps': 25, 'frame_end': -1, 'frame_start': 1, 'instance_id': 9, 'signer_id': 65, 'source': 'nabboud', 'split': 'train', 'url': 'https://www.youtube.com/watch?v=Ddd2ZZNFhVI', 'variation_id': 0, 'video_id': '17727'}, {'bbox': [337, 0, 994, 720], 'fps': 25, 'frame_end': -1, 'frame_start': 1, 'instance_id': 10, 'signer_id': 5, 'source': 'aslu', 'split': 'train', 'url': 'https://www.youtube.com/watch?v=g3rl9_LYqzI', 'variation_id': 0, 'video_id': '17728'}, {'bbox': [196, 15, 521, 414], 'fps': 25, 'frame_end': -1, 'frame_start': 1, 'instance_id': 11, 'signer_id': 36, 'source': 'startasl', 'split': 'train', 'url': 'https://s3-us-west-1.amazonaws.com/files.startasl.com/asldictionary/drink.mp4', 'variation_id': 0, 'video_id': '17710'}, {'bbox': [350, 0, 999, 720], 'fps': 25, 'frame_end': -1, 'frame_start': 1, 'instance_id': 12, 'signer_id': 5, 'source': 'aslu', 'split': 'train', 'url': 'https://www.youtube.com/watch?v=i0opsQ2zB1Q', 'variation_id': 0, 'video_id': '17729'}, {'bbox': [334, 0, 997, 720], 'fps': 25, 'frame_end': -1, 'frame_start': 1, 'instance_id': 13, 'signer_id': 5, 'source': 'aslu', 'split': 'test', 'url': 'https://www.youtube.com/watch?v=k6cNmM9WgUs', 'variation_id': 0, 'video_id': '17730'}, {'bbox': [348, 43, 933, 720], 'fps': 25, 'frame_end': -1, 'frame_start': 1, 'instance_id': 14, 'signer_id': 5, 'source': 'aslu', 'split': 'train', 'url': 'https://www.youtube.com/watch?v=LqJM7wcUixQ', 'variation_id': 0, 'video_id': '17731'}, {'bbox': [0, 4, 206, 240], 'fps': 25, 'frame_end': -1, 'frame_start': 1, 'instance_id': 15, 'signer_id': 44, 'source': 'aslpro', 'split': 'train', 'url': 'http://www.aslpro.com/main/d/drink.swf', 'variation_id': 0, 'video_id': '17732'}, {'bbox': [186, 63, 551, 400], 'fps': 25, 'frame_end': -1, 'frame_start': 1, 'instance_id': 16, 'signer_id': 12, 'source': 'aslsearch', 'split': 'train', 'url': 'http://www.aslsearch.com/signs/videos/drink-alcohol.mp4', 'variation_id': 0, 'video_id': '17733'}, {'bbox': [167, 19, 480, 370], 'fps': 25, 'frame_end': -1, 'frame_start': 1, 'instance_id': 17, 'signer_id': 94, 'source': 'aslsignbank', 'split': 'train', 'url': 'https://aslsignbank.haskins.yale.edu/dictionary/protected_media/glossvideo/ASL/DR/DRINK-120.mp4', 'variation_id': 0, 'video_id': '65540'}, {'bbox': [183, 55, 552, 400], 'fps': 25, 'frame_end': -1, 'frame_start': 1, 'instance_id': 18, 'signer_id': 12, 'source': 'aslsearch', 'split': 'val', 'url': 'http://www.aslsearch.com/signs/videos/drink.mp4', 'variation_id': 0, 'video_id': '17734'}, {'bbox': [289, 9, 783, 480], 'fps': 25, 'frame_end': -1, 'frame_start': 1, 'instance_id': 19, 'signer_id': 52, 'source': 'signschool', 'split': 'train', 'url': 'https://signstock.blob.core.windows.net/signschool/videos/db_uploads/SignSchool%20Drink%20(correct)-0UzEF7ru0sQ.mp4', 'variation_id': 0, 'video_id': '17711'}, {'bbox': [673, 90, 1571, 1072], 'fps': 25, 'frame_end': -1, 'frame_start': 1, 'instance_id': 20, 'signer_id': 6, 'source': 'signschool', 'split': 'train', 'url': 'https://signstock.blob.core.windows.net/signschool/videos/db_uploads/SignSchool%20Drink-L6hHRIQzWBo.mp4', 'variation_id': 0, 'video_id': '17712'}, {'bbox': [28, 0, 542, 480], 'fps': 25, 'frame_end': -1, 'frame_start': 1, 'instance_id': 21, 'signer_id': 21, 'source': 'asldeafined', 'split': 'test', 'url': 'https://media.asldeafined.com/vocabulary/1467773819.9825.mp4', 'variation_id': 0, 'video_id': '17713'}, {'bbox': [53, 9, 579, 480], 'fps': 25, 'frame_end': -1, 'frame_start': 1, 'instance_id': 22, 'signer_id': 20, 'source': 'handspeak', 'split': 'train', 'url': 'https://www.handspeak.com/word/d/drink2.mp4', 'variation_id': 0, 'video_id': '17714'}, {'bbox': [57, 0, 586, 480], 'fps': 25, 'frame_end': -1, 'frame_start': 1, 'instance_id': 23, 'signer_id': 14, 'source': 'handspeak', 'split': 'train', 'url': 'https://www.handspeak.com/word/d/drink-alcohol.mp4', 'variation_id': 0, 'video_id': '17715'}, {'bbox': [113, 0, 493, 360], 'fps': 25, 'frame_end': -1, 'frame_start': 1, 'instance_id': 24, 'signer_id': 20, 'source': 'handspeak', 'split': 'test', 'url': 'https://www.handspeak.com/word/d/drink-british.mp4', 'variation_id': 0, 'video_id': '17716'}, {'bbox': [112, 0, 509, 360], 'fps': 25, 'frame_end': -1, 'frame_start': 1, 'instance_id': 25, 'signer_id': 14, 'source': 'handspeak', 'split': 'train', 'url': 'https://www.handspeak.com/word/d/drink.mp4', 'variation_id': 0, 'video_id': '17717'}, {'bbox': [84, 0, 506, 360], 'fps': 25, 'frame_end': -1, 'frame_start': 1, 'instance_id': 26, 'signer_id': 20, 'source': 'handspeak', 'split': 'test', 'url': 'https://www.handspeak.com/word/d/drink-mug.mp4', 'variation_id': 0, 'video_id': '17718'}, {'bbox': [41, 9, 257, 240], 'fps': 25, 'frame_end': -1, 'frame_start': 1, 'instance_id': 27, 'signer_id': 2, 'source': 'spreadthesign', 'split': 'train', 'url': 'https://media.spreadthesign.com/video/mp4/13/153289.mp4', 'variation_id': 0, 'video_id': '17709'}, {'bbox': [98, 13, 372, 360], 'fps': 25, 'frame_end': -1, 'frame_start': 1, 'instance_id': 28, 'signer_id': 109, 'source': 'asllex', 'split': 'train', 'url': 'https://youtu.be/yawcLQIhQiE', 'variation_id': 0, 'video_id': '67594'}, {'bbox': [124, 0, 542, 360], 'fps': 25, 'frame_end': -1, 'frame_start': 1, 'instance_id': 29, 'signer_id': 14, 'source': 'handspeak', 'split': 'train', 'url': 'https://www.handspeak.com/word/d/drink-plu.mp4', 'variation_id': 0, 'video_id': '17719'}, {'bbox': [49, 3, 220, 192], 'fps': 25, 'frame_end': -1, 'frame_start': 1, 'instance_id': 30, 'signer_id': 11, 'source': 'signingsavvy', 'split': 'train', 'url': 'https://www.signingsavvy.com/signs/mp4/14/14885.mp4', 'variation_id': 0, 'video_id': '17720'}, {'bbox': [66, 19, 209, 192], 'fps': 25, 'frame_end': -1, 'frame_start': 1, 'instance_id': 31, 'signer_id': 10, 'source': 'signingsavvy', 'split': 'train', 'url': 'https://www.signingsavvy.com/signs/mp4/23/23388.mp4', 'variation_id': 0, 'video_id': '17721'}, {'bbox': [66, 19, 209, 192], 'fps': 25, 'frame_end': -1, 'frame_start': 1, 'instance_id': 32, 'signer_id': 10, 'source': 'signingsavvy', 'split': 'train', 'url': 'https://www.signingsavvy.com/signs/mp4/23/23388.mp4', 'variation_id': 0, 'video_id': '17722'}, {'bbox': [65, 20, 208, 192], 'fps': 25, 'frame_end': -1, 'frame_start': 1, 'instance_id': 33, 'signer_id': 10, 'source': 'signingsavvy', 'split': 'train', 'url': 'https://www.signingsavvy.com/signs/mp4/23/23389.mp4', 'variation_id': 0, 'video_id': '17723'}, {'bbox': [68, 18, 220, 192], 'fps': 25, 'frame_end': -1, 'frame_start': 1, 'instance_id': 34, 'signer_id': 11, 'source': 'signingsavvy', 'split': 'val', 'url': 'https://www.signingsavvy.com/signs/mp4/7/7796.mp4', 'variation_id': 0, 'video_id': '17724'}]\n"
          ]
        },
        {
          "name": "stderr",
          "output_type": "stream",
          "text": [
            "  3%|▎         | 1/35 [00:03<01:56,  3.42s/it]"
          ]
        },
        {
          "name": "stdout",
          "output_type": "stream",
          "text": [
            "test 69302\n"
          ]
        },
        {
          "name": "stderr",
          "output_type": "stream",
          "text": [
            "\r  6%|▌         | 2/35 [00:03<00:51,  1.56s/it]"
          ]
        },
        {
          "name": "stdout",
          "output_type": "stream",
          "text": [
            "train 65539\n"
          ]
        },
        {
          "name": "stderr",
          "output_type": "stream",
          "text": [
            "\r 34%|███▍      | 12/35 [00:03<00:04,  5.29it/s]"
          ]
        },
        {
          "name": "stdout",
          "output_type": "stream",
          "text": [
            "train 17710\n"
          ]
        },
        {
          "name": "stderr",
          "output_type": "stream",
          "text": [
            "\r 49%|████▊     | 17/35 [00:04<00:02,  6.99it/s]"
          ]
        },
        {
          "name": "stdout",
          "output_type": "stream",
          "text": [
            "train 17733\n",
            "train 65540\n"
          ]
        },
        {
          "name": "stderr",
          "output_type": "stream",
          "text": [
            "\r 54%|█████▍    | 19/35 [00:04<00:02,  5.99it/s]"
          ]
        },
        {
          "name": "stdout",
          "output_type": "stream",
          "text": [
            "test 17734\n",
            "train 17711\n"
          ]
        },
        {
          "name": "stderr",
          "output_type": "stream",
          "text": [
            "\r 60%|██████    | 21/35 [00:06<00:03,  3.56it/s]"
          ]
        },
        {
          "name": "stdout",
          "output_type": "stream",
          "text": [
            "train 17712\n"
          ]
        },
        {
          "name": "stderr",
          "output_type": "stream",
          "text": [
            " 80%|████████  | 28/35 [00:06<00:01,  6.64it/s]"
          ]
        },
        {
          "name": "stdout",
          "output_type": "stream",
          "text": [
            "test 17713\n",
            "train 17709\n"
          ]
        },
        {
          "name": "stderr",
          "output_type": "stream",
          "text": [
            " 94%|█████████▍| 33/35 [00:07<00:00,  8.50it/s]"
          ]
        },
        {
          "name": "stdout",
          "output_type": "stream",
          "text": [
            "train 17720\n",
            "train 17721\n",
            "train 17722\n"
          ]
        },
        {
          "name": "stderr",
          "output_type": "stream",
          "text": [
            "100%|██████████| 35/35 [00:07<00:00,  4.82it/s]\n"
          ]
        },
        {
          "name": "stdout",
          "output_type": "stream",
          "text": [
            "train 17723\n",
            "test 17724\n",
            "[{'bbox': [0, 0, 360, 240], 'fps': 25, 'frame_end': 5181, 'frame_start': 5122, 'instance_id': 0, 'signer_id': 9, 'source': 'asl5200', 'split': 'test', 'url': 'https://www.youtube.com/watch?v=PPmQd2zWdP0', 'variation_id': 0, 'video_id': '12306'}, {'bbox': [111, 0, 1198, 720], 'fps': 25, 'frame_end': -1, 'frame_start': 1, 'instance_id': 1, 'signer_id': 109, 'source': 'valencia-asl', 'split': 'train', 'url': 'https://www.youtube.com/watch?v=H-tAzh-nuV8', 'variation_id': 0, 'video_id': '68028'}, {'bbox': [110, 16, 549, 360], 'fps': 25, 'frame_end': 72, 'frame_start': 1, 'instance_id': 2, 'signer_id': 113, 'source': 'lillybauer', 'split': 'train', 'url': 'https://www.youtube.com/watch?v=YEFd7zsUNXU', 'variation_id': 0, 'video_id': '69054'}, {'bbox': [56, 11, 240, 192], 'fps': 25, 'frame_end': -1, 'frame_start': 1, 'instance_id': 3, 'signer_id': 11, 'source': 'signingsavvy', 'split': 'train', 'url': 'https://www.signingsavvy.com/signs/mp4/6/6326.mp4', 'variation_id': 1, 'video_id': '12328'}, {'bbox': [317, 42, 1077, 720], 'fps': 25, 'frame_end': -1, 'frame_start': 1, 'instance_id': 4, 'signer_id': 5, 'source': 'aslu', 'split': 'train', 'url': 'https://www.youtube.com/watch?v=97IwdVSOQho', 'variation_id': 1, 'video_id': '12329'}, {'bbox': [299, 34, 1066, 720], 'fps': 25, 'frame_end': -1, 'frame_start': 1, 'instance_id': 5, 'signer_id': 5, 'source': 'aslu', 'split': 'train', 'url': 'https://www.youtube.com/watch?v=cujhpwWi1yY', 'variation_id': 1, 'video_id': '12330'}, {'bbox': [422, 50, 824, 720], 'fps': 25, 'frame_end': -1, 'frame_start': 1, 'instance_id': 6, 'signer_id': 38, 'source': 'startasl', 'split': 'val', 'url': 'https://s3-us-west-1.amazonaws.com/files.startasl.com/asldictionary/computer-2.mp4', 'variation_id': 0, 'video_id': '12312'}, {'bbox': [320, 47, 961, 720], 'fps': 25, 'frame_end': -1, 'frame_start': 1, 'instance_id': 7, 'signer_id': 5, 'source': 'aslu', 'split': 'train', 'url': 'https://www.youtube.com/watch?v=fY11M3Dxxx0', 'variation_id': 0, 'video_id': '12331'}, {'bbox': [331, 67, 869, 720], 'fps': 25, 'frame_end': -1, 'frame_start': 1, 'instance_id': 8, 'signer_id': 65, 'source': 'nabboud', 'split': 'test', 'url': 'https://www.youtube.com/watch?v=lVo6MByRMHY', 'variation_id': 2, 'video_id': '12332'}, {'bbox': [256, 28, 1084, 720], 'fps': 25, 'frame_end': -1, 'frame_start': 1, 'instance_id': 9, 'signer_id': 5, 'source': 'aslu', 'split': 'val', 'url': 'https://www.youtube.com/watch?v=-_RSZM-lLXE', 'variation_id': 1, 'video_id': '12333'}, {'bbox': [321, 1, 953, 720], 'fps': 25, 'frame_end': -1, 'frame_start': 1, 'instance_id': 11, 'signer_id': 5, 'source': 'aslu', 'split': 'val', 'url': 'https://www.youtube.com/watch?v=vK4GwJaDcWU', 'variation_id': 2, 'video_id': '12335'}, {'bbox': [386, 67, 872, 720], 'fps': 25, 'frame_end': -1, 'frame_start': 1, 'instance_id': 12, 'signer_id': 65, 'source': 'nabboud', 'split': 'test', 'url': 'https://www.youtube.com/watch?v=-wmqgdmwySo', 'variation_id': 0, 'video_id': '12336'}, {'bbox': [27, 0, 313, 240], 'fps': 25, 'frame_end': -1, 'frame_start': 1, 'instance_id': 13, 'signer_id': 56, 'source': 'spreadthesign', 'split': 'train', 'url': 'https://media.spreadthesign.com/video/mp4/13/51378.mp4', 'variation_id': 1, 'video_id': '12311'}, {'bbox': [8, 1, 251, 240], 'fps': 25, 'frame_end': -1, 'frame_start': 1, 'instance_id': 14, 'signer_id': 72, 'source': 'aslpro', 'split': 'train', 'url': 'http://www.aslpro.com/main/c/computer.swf', 'variation_id': 1, 'video_id': '12337'}, {'bbox': [221, 42, 501, 400], 'fps': 25, 'frame_end': -1, 'frame_start': 1, 'instance_id': 15, 'signer_id': 41, 'source': 'aslsearch', 'split': 'train', 'url': 'http://www.aslsearch.com/signs/videos/computer.mp4', 'variation_id': 1, 'video_id': '12338'}, {'bbox': [409, 51, 833, 720], 'fps': 25, 'frame_end': -1, 'frame_start': 1, 'instance_id': 16, 'signer_id': 38, 'source': 'startasl', 'split': 'train', 'url': 'https://s3-us-west-1.amazonaws.com/files.startasl.com/asldictionary/computer.mp4', 'variation_id': 1, 'video_id': '12313'}, {'bbox': [257, 38, 1684, 1080], 'fps': 25, 'frame_end': -1, 'frame_start': 1, 'instance_id': 17, 'signer_id': 4, 'source': 'signschool', 'split': 'train', 'url': 'https://signstock.blob.core.windows.net/signschool/videos/db_uploads/Computer%203-ZIm7kG5ie_M.mp4', 'variation_id': 0, 'video_id': '12314'}, {'bbox': [436, 35, 1765, 1080], 'fps': 25, 'frame_end': -1, 'frame_start': 1, 'instance_id': 18, 'signer_id': 4, 'source': 'signschool', 'split': 'val', 'url': 'https://signstock.blob.core.windows.net/signschool/videos/db_uploads/Computer%205-wOn7bu44o4s.mp4', 'variation_id': 1, 'video_id': '12315'}, {'bbox': [412, 18, 1698, 1080], 'fps': 25, 'frame_end': -1, 'frame_start': 1, 'instance_id': 19, 'signer_id': 4, 'source': 'signschool', 'split': 'train', 'url': 'https://signstock.blob.core.windows.net/signschool/videos/db_uploads/SignSchool%20Computer%201-_2YnCKHJy6U.mp4', 'variation_id': 2, 'video_id': '12316'}, {'bbox': [473, 44, 1708, 1080], 'fps': 25, 'frame_end': -1, 'frame_start': 1, 'instance_id': 20, 'signer_id': 4, 'source': 'signschool', 'split': 'train', 'url': 'https://signstock.blob.core.windows.net/signschool/videos/db_uploads/SignSchool%20Computer%202-_HHzYqXw-xU.mp4', 'variation_id': 2, 'video_id': '12317'}, {'bbox': [365, 45, 1673, 1080], 'fps': 25, 'frame_end': -1, 'frame_start': 1, 'instance_id': 21, 'signer_id': 4, 'source': 'signschool', 'split': 'train', 'url': 'https://signstock.blob.core.windows.net/signschool/videos/db_uploads/SignSchool%20Computer%204-1f6Cc5NXBgw.mp4', 'variation_id': 0, 'video_id': '12318'}, {'bbox': [494, 99, 1414, 1077], 'fps': 25, 'frame_end': -1, 'frame_start': 1, 'instance_id': 22, 'signer_id': 45, 'source': 'signschool', 'split': 'train', 'url': 'https://signstock.blob.core.windows.net/signschool/videos/db_uploads/SignSchool%20Republic%20of%20Congo-b6U1CIWIPIw.mp4', 'variation_id': 2, 'video_id': '12319'}, {'bbox': [74, 19, 565, 480], 'fps': 25, 'frame_end': -1, 'frame_start': 1, 'instance_id': 23, 'signer_id': 59, 'source': 'asldeafined', 'split': 'test', 'url': 'https://media.asldeafined.com/vocabulary/1466901185.5915.mp4', 'variation_id': 1, 'video_id': '12320'}, {'bbox': [96, 17, 417, 360], 'fps': 25, 'frame_end': -1, 'frame_start': 1, 'instance_id': 24, 'signer_id': 109, 'source': 'asllex', 'split': 'test', 'url': 'https://youtu.be/u1xoXux2NaE', 'variation_id': 1, 'video_id': '67519'}, {'bbox': [115, 0, 561, 480], 'fps': 25, 'frame_end': -1, 'frame_start': 1, 'instance_id': 25, 'signer_id': 20, 'source': 'handspeak', 'split': 'train', 'url': 'https://www.handspeak.com/word/c/computer-arm2.mp4', 'variation_id': 0, 'video_id': '12321'}, {'bbox': [107, 0, 534, 480], 'fps': 25, 'frame_end': -1, 'frame_start': 1, 'instance_id': 26, 'signer_id': 20, 'source': 'handspeak', 'split': 'train', 'url': 'https://www.handspeak.com/word/c/computer-arm.mp4', 'variation_id': 0, 'video_id': '12322'}, {'bbox': [14, 0, 521, 480], 'fps': 25, 'frame_end': -1, 'frame_start': 1, 'instance_id': 27, 'signer_id': 20, 'source': 'handspeak', 'split': 'train', 'url': 'https://www.handspeak.com/word/c/computer-head.mp4', 'variation_id': 2, 'video_id': '12323'}, {'bbox': [120, 9, 522, 360], 'fps': 25, 'frame_end': -1, 'frame_start': 1, 'instance_id': 28, 'signer_id': 14, 'source': 'handspeak', 'split': 'train', 'url': 'https://www.handspeak.com/word/c/computer-old2.mp4', 'variation_id': 1, 'video_id': '12324'}, {'bbox': [69, 9, 214, 192], 'fps': 25, 'frame_end': -1, 'frame_start': 1, 'instance_id': 30, 'signer_id': 11, 'source': 'signingsavvy', 'split': 'val', 'url': 'https://www.signingsavvy.com/signs/mp4/6/6011.mp4', 'variation_id': 0, 'video_id': '12326'}, {'bbox': [63, 0, 218, 192], 'fps': 25, 'frame_end': -1, 'frame_start': 1, 'instance_id': 31, 'signer_id': 11, 'source': 'signingsavvy', 'split': 'train', 'url': 'https://www.signingsavvy.com/signs/mp4/6/6012.mp4', 'variation_id': 2, 'video_id': '12327'}]\n"
          ]
        },
        {
          "name": "stderr",
          "output_type": "stream",
          "text": [
            " 13%|█▎        | 4/30 [00:00<00:00, 31.61it/s]"
          ]
        },
        {
          "name": "stdout",
          "output_type": "stream",
          "text": [
            "train 12328\n"
          ]
        },
        {
          "name": "stderr",
          "output_type": "stream",
          "text": [
            " 43%|████▎     | 13/30 [00:01<00:01, 10.10it/s]"
          ]
        },
        {
          "name": "stdout",
          "output_type": "stream",
          "text": [
            "test 12312\n",
            "train 12311\n",
            "train 12338\n"
          ]
        },
        {
          "name": "stderr",
          "output_type": "stream",
          "text": [
            "\r 53%|█████▎    | 16/30 [00:02<00:02,  5.18it/s]"
          ]
        },
        {
          "name": "stdout",
          "output_type": "stream",
          "text": [
            "train 12313\n",
            "train 12314\n"
          ]
        },
        {
          "name": "stderr",
          "output_type": "stream",
          "text": [
            "\r 60%|██████    | 18/30 [00:05<00:06,  1.91it/s]"
          ]
        },
        {
          "name": "stdout",
          "output_type": "stream",
          "text": [
            "test 12315\n"
          ]
        },
        {
          "name": "stderr",
          "output_type": "stream",
          "text": [
            "\r 63%|██████▎   | 19/30 [00:08<00:08,  1.34it/s]"
          ]
        },
        {
          "name": "stdout",
          "output_type": "stream",
          "text": [
            "train 12316\n"
          ]
        },
        {
          "name": "stderr",
          "output_type": "stream",
          "text": [
            "\r 67%|██████▋   | 20/30 [00:10<00:09,  1.02it/s]"
          ]
        },
        {
          "name": "stdout",
          "output_type": "stream",
          "text": [
            "train 12317\n"
          ]
        },
        {
          "name": "stderr",
          "output_type": "stream",
          "text": [
            "\r 70%|███████   | 21/30 [00:11<00:09,  1.03s/it]"
          ]
        },
        {
          "name": "stdout",
          "output_type": "stream",
          "text": [
            "train 12318\n"
          ]
        },
        {
          "name": "stderr",
          "output_type": "stream",
          "text": [
            "\r 73%|███████▎  | 22/30 [00:13<00:09,  1.22s/it]"
          ]
        },
        {
          "name": "stdout",
          "output_type": "stream",
          "text": [
            "train 12319\n"
          ]
        },
        {
          "name": "stderr",
          "output_type": "stream",
          "text": [
            " 97%|█████████▋| 29/30 [00:13<00:00,  2.79it/s]"
          ]
        },
        {
          "name": "stdout",
          "output_type": "stream",
          "text": [
            "test 12320\n",
            "test 12326\n"
          ]
        },
        {
          "name": "stderr",
          "output_type": "stream",
          "text": [
            "\r100%|██████████| 30/30 [00:14<00:00,  2.14it/s]\n"
          ]
        },
        {
          "name": "stdout",
          "output_type": "stream",
          "text": [
            "train 12327\n",
            "[{'bbox': [0, 0, 360, 240], 'fps': 25, 'frame_end': 1779, 'frame_start': 1733, 'instance_id': 0, 'signer_id': 9, 'source': 'asl5200', 'split': 'train', 'url': 'https://www.youtube.com/watch?v=pDqITge_TGs', 'variation_id': 0, 'video_id': '05724'}, {'bbox': [185, 50, 419, 360], 'fps': 25, 'frame_end': 4873, 'frame_start': 4778, 'instance_id': 1, 'signer_id': 121, 'source': 'northtexas', 'split': 'train', 'url': 'https://www.youtube.com/watch?v=bq-HmgjGzmw', 'variation_id': 0, 'video_id': '70348'}, {'bbox': [121, 26, 1003, 720], 'fps': 25, 'frame_end': -1, 'frame_start': 1, 'instance_id': 2, 'signer_id': 109, 'source': 'valencia-asl', 'split': 'train', 'url': 'https://www.youtube.com/watch?v=IYH-gBXXl8I', 'variation_id': 0, 'video_id': '68007'}, {'bbox': [156, 14, 493, 360], 'fps': 25, 'frame_end': -1, 'frame_start': 1, 'instance_id': 3, 'signer_id': 5, 'source': 'aslu', 'split': 'train', 'url': 'https://www.youtube.com/watch?v=MvtVsr3P098', 'variation_id': 1, 'video_id': '05744'}, {'bbox': [142, 12, 493, 360], 'fps': 25, 'frame_end': -1, 'frame_start': 1, 'instance_id': 5, 'signer_id': 5, 'source': 'aslu', 'split': 'val', 'url': 'https://www.youtube.com/watch?v=PeO4kaKvoVM', 'variation_id': 0, 'video_id': '05746'}, {'bbox': [624, 70, 1587, 1070], 'fps': 25, 'frame_end': -1, 'frame_start': 1, 'instance_id': 6, 'signer_id': 32, 'source': 'signschool', 'split': 'train', 'url': 'https://signstock.blob.core.windows.net/signschool/videos/db_uploads/SignSchool%20Before%202-02xxXtC3G8c.mp4', 'variation_id': 0, 'video_id': '05728'}, {'bbox': [327, 2, 1071, 720], 'fps': 25, 'frame_end': -1, 'frame_start': 1, 'instance_id': 7, 'signer_id': 5, 'source': 'aslu', 'split': 'train', 'url': 'https://www.youtube.com/watch?v=TQMe2WDz9QE', 'variation_id': 1, 'video_id': '05747'}, {'bbox': [15, 12, 206, 240], 'fps': 25, 'frame_end': -1, 'frame_start': 1, 'instance_id': 8, 'signer_id': 24, 'source': 'aslpro', 'split': 'train', 'url': 'http://www.aslpro.com/main/b/before.swf', 'variation_id': 1, 'video_id': '05748'}, {'bbox': [167, 52, 512, 400], 'fps': 25, 'frame_end': -1, 'frame_start': 1, 'instance_id': 9, 'signer_id': 12, 'source': 'aslsearch', 'split': 'train', 'url': 'http://www.aslsearch.com/signs/videos/before3.mp4', 'variation_id': 0, 'video_id': '05749'}, {'bbox': [171, 52, 513, 400], 'fps': 25, 'frame_end': -1, 'frame_start': 1, 'instance_id': 10, 'signer_id': 12, 'source': 'aslsearch', 'split': 'val', 'url': 'http://www.aslsearch.com/signs/videos/before.mp4', 'variation_id': 1, 'video_id': '05750'}, {'bbox': [300, 12, 1202, 1080], 'fps': 25, 'frame_end': -1, 'frame_start': 1, 'instance_id': 11, 'signer_id': 46, 'source': 'signschool', 'split': 'train', 'url': 'https://signstock.blob.core.windows.net/signschool/videos/db_uploads/SignSchool%20Before-kM8O_piLegw.mp4', 'variation_id': 1, 'video_id': '05729'}, {'bbox': [712, 64, 1652, 1080], 'fps': 25, 'frame_end': -1, 'frame_start': 1, 'instance_id': 12, 'signer_id': 32, 'source': 'signschool', 'split': 'train', 'url': 'https://signstock.blob.core.windows.net/signschool/videos/db_uploads/SignSchool%20Before-Se78WI3j-mI.mp4', 'variation_id': 1, 'video_id': '05730'}, {'bbox': [190, 0, 504, 370], 'fps': 25, 'frame_end': -1, 'frame_start': 1, 'instance_id': 13, 'signer_id': 88, 'source': 'aslsignbank', 'split': 'train', 'url': 'https://aslsignbank.haskins.yale.edu/dictionary/protected_media/glossvideo/ASL/BE/BEFORE-37.mp4', 'variation_id': 1, 'video_id': '65167'}, {'bbox': [570, 98, 1535, 1080], 'fps': 25, 'frame_end': -1, 'frame_start': 1, 'instance_id': 14, 'signer_id': 4, 'source': 'signschool', 'split': 'train', 'url': 'https://signstock.blob.core.windows.net/signschool/videos/db_uploads/SignSchool%20Last-0SLfkAHELAs.mp4', 'variation_id': 0, 'video_id': '05731'}, {'bbox': [103, 25, 528, 480], 'fps': 25, 'frame_end': -1, 'frame_start': 1, 'instance_id': 15, 'signer_id': 13, 'source': 'asldeafined', 'split': 'train', 'url': 'https://media.asldeafined.com/vocabulary/1466681314.2550.mp4', 'variation_id': 0, 'video_id': '05732'}, {'bbox': [95, 23, 533, 480], 'fps': 25, 'frame_end': -1, 'frame_start': 1, 'instance_id': 16, 'signer_id': 13, 'source': 'asldeafined', 'split': 'train', 'url': 'https://media.asldeafined.com/vocabulary/1466681379.1244.mp4', 'variation_id': 1, 'video_id': '05733'}, {'bbox': [129, 0, 555, 480], 'fps': 25, 'frame_end': -1, 'frame_start': 1, 'instance_id': 17, 'signer_id': 13, 'source': 'asldeafined', 'split': 'train', 'url': 'https://media.asldeafined.com/vocabulary/1468755772.9751.mp4', 'variation_id': 0, 'video_id': '05734'}, {'bbox': [30, 4, 550, 480], 'fps': 25, 'frame_end': -1, 'frame_start': 1, 'instance_id': 18, 'signer_id': 20, 'source': 'handspeak', 'split': 'test', 'url': 'https://www.handspeak.com/word/b/before-long.mp4', 'variation_id': 0, 'video_id': '05735'}, {'bbox': [59, 0, 303, 240], 'fps': 25, 'frame_end': -1, 'frame_start': 1, 'instance_id': 19, 'signer_id': 14, 'source': 'handspeak', 'split': 'val', 'url': 'https://www.handspeak.com/word/b/before.mp4', 'variation_id': 1, 'video_id': '05736'}, {'bbox': [386, 45, 810, 720], 'fps': 25, 'frame_end': -1, 'frame_start': 1, 'instance_id': 20, 'signer_id': 38, 'source': 'startasl', 'split': 'test', 'url': 'https://s3-us-west-1.amazonaws.com/files.startasl.com/asldictionary/before.mp4', 'variation_id': 1, 'video_id': '05727'}, {'bbox': [102, 11, 532, 480], 'fps': 25, 'frame_end': -1, 'frame_start': 1, 'instance_id': 21, 'signer_id': 20, 'source': 'handspeak', 'split': 'val', 'url': 'https://www.handspeak.com/word/b/before-past.mp4', 'variation_id': 0, 'video_id': '05737'}, {'bbox': [74, 23, 209, 192], 'fps': 25, 'frame_end': -1, 'frame_start': 1, 'instance_id': 23, 'signer_id': 10, 'source': 'signingsavvy', 'split': 'test', 'url': 'https://www.signingsavvy.com/signs/mp4/22/22829.mp4', 'variation_id': 1, 'video_id': '05739'}, {'bbox': [90, 22, 203, 192], 'fps': 25, 'frame_end': -1, 'frame_start': 1, 'instance_id': 24, 'signer_id': 10, 'source': 'signingsavvy', 'split': 'train', 'url': 'https://www.signingsavvy.com/signs/mp4/22/22831.mp4', 'variation_id': 1, 'video_id': '05740'}, {'bbox': [65, 9, 219, 192], 'fps': 25, 'frame_end': -1, 'frame_start': 1, 'instance_id': 25, 'signer_id': 11, 'source': 'signingsavvy', 'split': 'test', 'url': 'https://www.signingsavvy.com/signs/mp4/5/5971.mp4', 'variation_id': 0, 'video_id': '05741'}, {'bbox': [67, 14, 216, 192], 'fps': 25, 'frame_end': -1, 'frame_start': 1, 'instance_id': 26, 'signer_id': 11, 'source': 'signingsavvy', 'split': 'train', 'url': 'https://www.signingsavvy.com/signs/mp4/6/6164.mp4', 'variation_id': 0, 'video_id': '05742'}, {'bbox': [43, 3, 212, 192], 'fps': 25, 'frame_end': -1, 'frame_start': 1, 'instance_id': 27, 'signer_id': 11, 'source': 'signingsavvy', 'split': 'train', 'url': 'https://www.signingsavvy.com/signs/mp4/9/9194.mp4', 'variation_id': 0, 'video_id': '05743'}]\n"
          ]
        },
        {
          "name": "stderr",
          "output_type": "stream",
          "text": [
            " 23%|██▎       | 6/26 [00:01<00:04,  4.50it/s]"
          ]
        },
        {
          "name": "stdout",
          "output_type": "stream",
          "text": [
            "train 05728\n"
          ]
        },
        {
          "name": "stderr",
          "output_type": "stream",
          "text": [
            "\r 35%|███▍      | 9/26 [00:01<00:03,  4.94it/s]"
          ]
        },
        {
          "name": "stdout",
          "output_type": "stream",
          "text": [
            "train 05749\n"
          ]
        },
        {
          "name": "stderr",
          "output_type": "stream",
          "text": [
            "\r 38%|███▊      | 10/26 [00:02<00:03,  4.34it/s]"
          ]
        },
        {
          "name": "stdout",
          "output_type": "stream",
          "text": [
            "test 05750\n"
          ]
        },
        {
          "name": "stderr",
          "output_type": "stream",
          "text": [
            "\r 42%|████▏     | 11/26 [00:03<00:07,  2.06it/s]"
          ]
        },
        {
          "name": "stdout",
          "output_type": "stream",
          "text": [
            "train 05729\n"
          ]
        },
        {
          "name": "stderr",
          "output_type": "stream",
          "text": [
            "\r 46%|████▌     | 12/26 [00:04<00:08,  1.65it/s]"
          ]
        },
        {
          "name": "stdout",
          "output_type": "stream",
          "text": [
            "train 05730\n"
          ]
        },
        {
          "name": "stderr",
          "output_type": "stream",
          "text": [
            "\r 50%|█████     | 13/26 [00:05<00:07,  1.84it/s]"
          ]
        },
        {
          "name": "stdout",
          "output_type": "stream",
          "text": [
            "train 65167\n"
          ]
        },
        {
          "name": "stderr",
          "output_type": "stream",
          "text": [
            " 58%|█████▊    | 15/26 [00:06<00:05,  2.03it/s]"
          ]
        },
        {
          "name": "stdout",
          "output_type": "stream",
          "text": [
            "train 05731\n",
            "train 05732\n"
          ]
        },
        {
          "name": "stderr",
          "output_type": "stream",
          "text": [
            "\r 62%|██████▏   | 16/26 [00:06<00:04,  2.47it/s]"
          ]
        },
        {
          "name": "stdout",
          "output_type": "stream",
          "text": [
            "train 05733\n"
          ]
        },
        {
          "name": "stderr",
          "output_type": "stream",
          "text": [
            "\r 65%|██████▌   | 17/26 [00:06<00:03,  2.84it/s]"
          ]
        },
        {
          "name": "stdout",
          "output_type": "stream",
          "text": [
            "train 05734\n"
          ]
        },
        {
          "name": "stderr",
          "output_type": "stream",
          "text": [
            " 88%|████████▊ | 23/26 [00:07<00:00,  5.11it/s]"
          ]
        },
        {
          "name": "stdout",
          "output_type": "stream",
          "text": [
            "test 05727\n",
            "test 05739\n",
            "train 05740\n",
            "test 05741\n"
          ]
        },
        {
          "name": "stderr",
          "output_type": "stream",
          "text": [
            "100%|██████████| 26/26 [00:07<00:00,  3.38it/s]\n"
          ]
        },
        {
          "name": "stdout",
          "output_type": "stream",
          "text": [
            "train 05742\n",
            "train 05743\n",
            "[{'bbox': [0, 0, 360, 240], 'fps': 25, 'frame_end': 1889, 'frame_start': 1830, 'instance_id': 0, 'signer_id': 9, 'source': 'asl5200', 'split': 'test', 'url': 'https://www.youtube.com/watch?v=PPmQd2zWdP0', 'variation_id': 0, 'video_id': '09847'}, {'bbox': [127, 41, 449, 360], 'fps': 25, 'frame_end': 2231, 'frame_start': 2101, 'instance_id': 1, 'signer_id': 121, 'source': 'northtexas', 'split': 'train', 'url': 'https://www.youtube.com/watch?v=4Nh1iFv2BMc', 'variation_id': 0, 'video_id': '70230'}, {'bbox': [340, 12, 944, 720], 'fps': 25, 'frame_end': 51, 'frame_start': 1, 'instance_id': 2, 'signer_id': 115, 'source': 'lillybauer', 'split': 'train', 'url': 'https://www.youtube.com/watch?v=j2hvnGiBrRI', 'variation_id': 0, 'video_id': '68580'}, {'bbox': [112, 39, 426, 360], 'fps': 25, 'frame_end': 3209, 'frame_start': 3092, 'instance_id': 3, 'signer_id': 121, 'source': 'northtexas', 'split': 'train', 'url': 'https://www.youtube.com/watch?v=WGfiiDgrq1I', 'variation_id': 0, 'video_id': '70263'}, {'bbox': [229, 3, 672, 480], 'fps': 25, 'frame_end': -1, 'frame_start': 1, 'instance_id': 4, 'signer_id': 110, 'source': 'valencia-asl', 'split': 'train', 'url': 'https://www.youtube.com/watch?v=zICB0wesqvY', 'variation_id': 0, 'video_id': '68019'}, {'bbox': [0, 10, 245, 240], 'fps': 25, 'frame_end': -1, 'frame_start': 1, 'instance_id': 6, 'signer_id': 72, 'source': 'aslpro', 'split': 'train', 'url': 'http://www.aslpro.com//main/c/chair_stacking.swf', 'variation_id': 0, 'video_id': '09865'}, {'bbox': [18, 6, 247, 240], 'fps': 25, 'frame_end': -1, 'frame_start': 1, 'instance_id': 7, 'signer_id': 72, 'source': 'aslpro', 'split': 'train', 'url': 'http://www.aslpro.com/main/c/chair.swf', 'variation_id': 0, 'video_id': '09866'}, {'bbox': [40, 6, 266, 240], 'fps': 25, 'frame_end': -1, 'frame_start': 1, 'instance_id': 8, 'signer_id': 0, 'source': 'spreadthesign', 'split': 'train', 'url': 'https://media.spreadthesign.com/video/mp4/13/74909.mp4', 'variation_id': 0, 'video_id': '09848'}, {'bbox': [5, 9, 250, 240], 'fps': 25, 'frame_end': -1, 'frame_start': 1, 'instance_id': 9, 'signer_id': 72, 'source': 'aslpro', 'split': 'test', 'url': 'http://www.aslpro.com//main/c/chair_wood.swf', 'variation_id': 0, 'video_id': '09867'}, {'bbox': [183, 55, 560, 400], 'fps': 25, 'frame_end': -1, 'frame_start': 1, 'instance_id': 11, 'signer_id': 12, 'source': 'aslsearch', 'split': 'train', 'url': 'http://www.aslsearch.com/signs/videos/chair.mp4', 'variation_id': 0, 'video_id': '09869'}, {'bbox': [388, 56, 806, 720], 'fps': 25, 'frame_end': -1, 'frame_start': 1, 'instance_id': 12, 'signer_id': 38, 'source': 'startasl', 'split': 'train', 'url': 'https://s3-us-west-1.amazonaws.com/files.startasl.com/asldictionary/chair.mp4', 'variation_id': 0, 'video_id': '09849'}, {'bbox': [667, 144, 1472, 1061], 'fps': 25, 'frame_end': -1, 'frame_start': 1, 'instance_id': 13, 'signer_id': 31, 'source': 'signschool', 'split': 'train', 'url': 'https://signstock.blob.core.windows.net/signschool/videos/db_uploads/SignSchool%20Chair-mVdtJjs-_20.mp4', 'variation_id': 0, 'video_id': '09850'}, {'bbox': [102, 22, 563, 480], 'fps': 25, 'frame_end': -1, 'frame_start': 1, 'instance_id': 14, 'signer_id': 59, 'source': 'asldeafined', 'split': 'val', 'url': 'https://media.asldeafined.com/vocabulary/1466729509.9229.mp4', 'variation_id': 0, 'video_id': '09851'}, {'bbox': [169, 15, 476, 370], 'fps': 25, 'frame_end': -1, 'frame_start': 1, 'instance_id': 15, 'signer_id': 90, 'source': 'aslsignbank', 'split': 'train', 'url': 'https://aslsignbank.haskins.yale.edu/dictionary/protected_media/glossvideo/ASL/CH/CHAIR-378.mp4', 'variation_id': 0, 'video_id': '65328'}, {'bbox': [60, 0, 306, 240], 'fps': 25, 'frame_end': -1, 'frame_start': 1, 'instance_id': 17, 'signer_id': 14, 'source': 'handspeak', 'split': 'train', 'url': 'https://www.handspeak.com/word/c/chair.mp4', 'variation_id': 0, 'video_id': '09853'}, {'bbox': [81, 15, 233, 192], 'fps': 25, 'frame_end': -1, 'frame_start': 1, 'instance_id': 18, 'signer_id': 11, 'source': 'signingsavvy', 'split': 'val', 'url': 'https://www.signingsavvy.com/signs/mp4/7/7821.mp4', 'variation_id': 0, 'video_id': '09854'}, {'bbox': [288, 29, 1001, 720], 'fps': 25, 'frame_end': -1, 'frame_start': 1, 'instance_id': 19, 'signer_id': 5, 'source': 'aslu', 'split': 'test', 'url': 'https://www.youtube.com/watch?v=8vc2vD9N4tk', 'variation_id': 0, 'video_id': '09855'}, {'bbox': [273, 88, 902, 720], 'fps': 25, 'frame_end': -1, 'frame_start': 1, 'instance_id': 20, 'signer_id': 65, 'source': 'nabboud', 'split': 'train', 'url': 'https://www.youtube.com/watch?v=dXz1i9gTR4w', 'variation_id': 0, 'video_id': '09856'}, {'bbox': [92, 19, 395, 360], 'fps': 25, 'frame_end': -1, 'frame_start': 1, 'instance_id': 21, 'signer_id': 109, 'source': 'asllex', 'split': 'val', 'url': 'https://youtu.be/K47c4lIJQvI', 'variation_id': 0, 'video_id': '67483'}, {'bbox': [15, 8, 245, 240], 'fps': 25, 'frame_end': -1, 'frame_start': 1, 'instance_id': 22, 'signer_id': 72, 'source': 'aslpro', 'split': 'train', 'url': 'http://www.aslpro.com//main/c/chair_director.swf', 'variation_id': 0, 'video_id': '09857'}, {'bbox': [0, 8, 249, 240], 'fps': 25, 'frame_end': -1, 'frame_start': 1, 'instance_id': 23, 'signer_id': 72, 'source': 'aslpro', 'split': 'train', 'url': 'http://www.aslpro.com//main/c/chair_folding.swf', 'variation_id': 0, 'video_id': '09858'}, {'bbox': [0, 8, 247, 240], 'fps': 25, 'frame_end': -1, 'frame_start': 1, 'instance_id': 24, 'signer_id': 72, 'source': 'aslpro', 'split': 'train', 'url': 'http://www.aslpro.com//main/c/chair_lawn_folding.swf', 'variation_id': 0, 'video_id': '09859'}, {'bbox': [1, 8, 252, 240], 'fps': 25, 'frame_end': -1, 'frame_start': 1, 'instance_id': 25, 'signer_id': 72, 'source': 'aslpro', 'split': 'train', 'url': 'http://www.aslpro.com//main/c/chair_lawn.swf', 'variation_id': 0, 'video_id': '09860'}, {'bbox': [18, 5, 242, 240], 'fps': 25, 'frame_end': -1, 'frame_start': 1, 'instance_id': 26, 'signer_id': 72, 'source': 'aslpro', 'split': 'train', 'url': 'http://www.aslpro.com//main/c/chair_loveseat.swf', 'variation_id': 0, 'video_id': '09861'}, {'bbox': [10, 9, 248, 240], 'fps': 25, 'frame_end': -1, 'frame_start': 1, 'instance_id': 27, 'signer_id': 72, 'source': 'aslpro', 'split': 'val', 'url': 'http://www.aslpro.com//main/c/chair_recliner.swf', 'variation_id': 0, 'video_id': '09862'}, {'bbox': [5, 8, 239, 240], 'fps': 25, 'frame_end': -1, 'frame_start': 1, 'instance_id': 28, 'signer_id': 72, 'source': 'aslpro', 'split': 'train', 'url': 'http://www.aslpro.com//main/c/chair_rocking_1.swf', 'variation_id': 0, 'video_id': '09863'}]\n"
          ]
        },
        {
          "name": "stderr",
          "output_type": "stream",
          "text": [
            "\r  0%|          | 0/26 [00:00<?, ?it/s]"
          ]
        },
        {
          "name": "stdout",
          "output_type": "stream",
          "text": [
            "train 09848\n"
          ]
        },
        {
          "name": "stderr",
          "output_type": "stream",
          "text": [
            "\r 38%|███▊      | 10/26 [00:00<00:00, 28.03it/s]"
          ]
        },
        {
          "name": "stdout",
          "output_type": "stream",
          "text": [
            "train 09869\n",
            "train 09849\n",
            "train 09850\n"
          ]
        },
        {
          "name": "stderr",
          "output_type": "stream",
          "text": [
            "100%|██████████| 26/26 [00:02<00:00, 11.80it/s]\n"
          ]
        },
        {
          "name": "stdout",
          "output_type": "stream",
          "text": [
            "test 09851\n",
            "train 65328\n",
            "test 09854\n",
            "[{'bbox': [0, 0, 360, 240], 'fps': 25, 'frame_end': 926, 'frame_start': 887, 'instance_id': 0, 'signer_id': 9, 'source': 'asl5200', 'split': 'test', 'url': 'https://www.youtube.com/watch?v=YdHKN_wHZqo', 'variation_id': 0, 'video_id': '24857'}, {'bbox': [268, 38, 898, 720], 'fps': 25, 'frame_end': -1, 'frame_start': 1, 'instance_id': 1, 'signer_id': 118, 'source': 'aslbrick', 'split': 'val', 'url': 'http://aslbricks.org/New/ASL-Videos/go.mp4', 'variation_id': 0, 'video_id': '69345'}, {'bbox': [93, 11, 559, 360], 'fps': 25, 'frame_end': 65, 'frame_start': 1, 'instance_id': 2, 'signer_id': 113, 'source': 'lillybauer', 'split': 'train', 'url': 'https://www.youtube.com/watch?v=7IkKMzvSsFM', 'variation_id': 0, 'video_id': '68292'}, {'bbox': [79, 22, 201, 192], 'fps': 25, 'frame_end': -1, 'frame_start': 1, 'instance_id': 3, 'signer_id': 10, 'source': 'signingsavvy', 'split': 'train', 'url': 'https://www.signingsavvy.com/signs/mp4/23/23400.mp4', 'variation_id': 0, 'video_id': '24955'}, {'bbox': [81, 22, 199, 192], 'fps': 25, 'frame_end': -1, 'frame_start': 1, 'instance_id': 4, 'signer_id': 10, 'source': 'signingsavvy', 'split': 'train', 'url': 'https://www.signingsavvy.com/signs/mp4/23/23401.mp4', 'variation_id': 0, 'video_id': '24956'}, {'bbox': [187, 18, 526, 414], 'fps': 25, 'frame_end': -1, 'frame_start': 1, 'instance_id': 8, 'signer_id': 36, 'source': 'startasl', 'split': 'train', 'url': 'https://s3-us-west-1.amazonaws.com/files.startasl.com/asldictionary/go.mp4', 'variation_id': 0, 'video_id': '24941'}, {'bbox': [78, 25, 214, 192], 'fps': 25, 'frame_end': -1, 'frame_start': 1, 'instance_id': 9, 'signer_id': 10, 'source': 'signingsavvy', 'split': 'test', 'url': 'https://www.signingsavvy.com/signs/mp4/23/23517.mp4', 'variation_id': 1, 'video_id': '24960'}, {'bbox': [78, 25, 214, 192], 'fps': 25, 'frame_end': -1, 'frame_start': 1, 'instance_id': 10, 'signer_id': 10, 'source': 'signingsavvy', 'split': 'train', 'url': 'https://www.signingsavvy.com/signs/mp4/23/23517.mp4', 'variation_id': 1, 'video_id': '24961'}, {'bbox': [88, 25, 217, 192], 'fps': 25, 'frame_end': -1, 'frame_start': 1, 'instance_id': 11, 'signer_id': 10, 'source': 'signingsavvy', 'split': 'train', 'url': 'https://www.signingsavvy.com/signs/mp4/23/23519.mp4', 'variation_id': 1, 'video_id': '24962'}, {'bbox': [201, 38, 837, 720], 'fps': 25, 'frame_end': -1, 'frame_start': 1, 'instance_id': 15, 'signer_id': 65, 'source': 'nabboud', 'split': 'train', 'url': 'https://www.youtube.com/watch?v=jknOnIhAbNo', 'variation_id': 0, 'video_id': '24965'}, {'bbox': [239, 20, 942, 720], 'fps': 25, 'frame_end': -1, 'frame_start': 1, 'instance_id': 19, 'signer_id': 5, 'source': 'aslu', 'split': 'train', 'url': 'https://www.youtube.com/watch?v=ZEyH-t5ALCs', 'variation_id': 0, 'video_id': '24969'}, {'bbox': [239, 20, 942, 720], 'fps': 25, 'frame_end': -1, 'frame_start': 1, 'instance_id': 21, 'signer_id': 5, 'source': 'aslu', 'split': 'train', 'url': 'https://www.youtube.com/watch?v=ZEyH-t5ALCs', 'variation_id': 0, 'video_id': '24970'}, {'bbox': [345, 51, 948, 720], 'fps': 25, 'frame_end': -1, 'frame_start': 1, 'instance_id': 22, 'signer_id': 65, 'source': 'nabboud', 'split': 'train', 'url': 'https://www.youtube.com/watch?v=ZyL9f_qoGug', 'variation_id': 0, 'video_id': '24971'}, {'bbox': [2, 9, 248, 240], 'fps': 25, 'frame_end': -1, 'frame_start': 1, 'instance_id': 23, 'signer_id': 25, 'source': 'aslpro', 'split': 'train', 'url': 'http://www.aslpro.com/main/g/go.swf', 'variation_id': 1, 'video_id': '24972'}, {'bbox': [149, 9, 591, 370], 'fps': 25, 'frame_end': -1, 'frame_start': 1, 'instance_id': 24, 'signer_id': 94, 'source': 'aslsignbank', 'split': 'train', 'url': 'https://aslsignbank.haskins.yale.edu/dictionary/protected_media/glossvideo/ASL/GO/GO-469.mp4', 'variation_id': 0, 'video_id': '65824'}, {'bbox': [229, 42, 573, 400], 'fps': 25, 'frame_end': -1, 'frame_start': 1, 'instance_id': 25, 'signer_id': 41, 'source': 'aslsearch', 'split': 'train', 'url': 'http://www.aslsearch.com/signs/videos/go.mp4', 'variation_id': 0, 'video_id': '24973'}, {'bbox': [283, 19, 812, 480], 'fps': 25, 'frame_end': -1, 'frame_start': 1, 'instance_id': 26, 'signer_id': 52, 'source': 'signschool', 'split': 'train', 'url': 'https://signstock.blob.core.windows.net/signschool/videos/db_uploads/SignSchool%20go-c3j44FTrL9c.mp4', 'variation_id': 0, 'video_id': '24943'}, {'bbox': [607, 62, 1534, 1075], 'fps': 25, 'frame_end': -1, 'frame_start': 1, 'instance_id': 29, 'signer_id': 31, 'source': 'signschool', 'split': 'val', 'url': 'https://signstock.blob.core.windows.net/signschool/videos/db_uploads/SignSchool%20To%20Go-BeOwDK5YI0U.mp4', 'variation_id': 0, 'video_id': '24946'}, {'bbox': [58, 2, 557, 480], 'fps': 25, 'frame_end': -1, 'frame_start': 1, 'instance_id': 30, 'signer_id': 21, 'source': 'asldeafined', 'split': 'train', 'url': 'https://media.asldeafined.com/vocabulary/1468549286.5649.mp4', 'variation_id': 0, 'video_id': '24947'}, {'bbox': [37, 7, 273, 240], 'fps': 25, 'frame_end': -1, 'frame_start': 1, 'instance_id': 31, 'signer_id': 14, 'source': 'handspeak', 'split': 'val', 'url': 'https://www.handspeak.com/word/g/go.mp4', 'variation_id': 0, 'video_id': '24948'}, {'bbox': [37, 1, 284, 240], 'fps': 25, 'frame_end': -1, 'frame_start': 1, 'instance_id': 33, 'signer_id': 0, 'source': 'spreadthesign', 'split': 'train', 'url': 'https://media.spreadthesign.com/video/mp4/13/58507.mp4', 'variation_id': 0, 'video_id': '24940'}, {'bbox': [106, 19, 343, 360], 'fps': 25, 'frame_end': -1, 'frame_start': 1, 'instance_id': 34, 'signer_id': 109, 'source': 'asllex', 'split': 'test', 'url': 'https://youtu.be/QfVrSA3yrSc', 'variation_id': 0, 'video_id': '67715'}, {'bbox': [4, 9, 525, 480], 'fps': 25, 'frame_end': -1, 'frame_start': 1, 'instance_id': 35, 'signer_id': 14, 'source': 'handspeak', 'split': 'train', 'url': 'https://www.handspeak.com/word/g/go-to2.mp4', 'variation_id': 1, 'video_id': '24950'}, {'bbox': [13, 1, 526, 480], 'fps': 25, 'frame_end': -1, 'frame_start': 1, 'instance_id': 36, 'signer_id': 20, 'source': 'handspeak', 'split': 'train', 'url': 'https://www.handspeak.com/word/g/go-to.mp4', 'variation_id': 0, 'video_id': '24951'}, {'bbox': [32, 14, 204, 192], 'fps': 25, 'frame_end': -1, 'frame_start': 1, 'instance_id': 37, 'signer_id': 10, 'source': 'signingsavvy', 'split': 'val', 'url': 'https://www.signingsavvy.com/signs/mp4/22/22235.mp4', 'variation_id': 1, 'video_id': '24952'}, {'bbox': [79, 22, 201, 192], 'fps': 25, 'frame_end': -1, 'frame_start': 1, 'instance_id': 39, 'signer_id': 10, 'source': 'signingsavvy', 'split': 'train', 'url': 'https://www.signingsavvy.com/signs/mp4/23/23400.mp4', 'variation_id': 0, 'video_id': '24954'}]\n"
          ]
        },
        {
          "name": "stderr",
          "output_type": "stream",
          "text": [
            "  8%|▊         | 2/26 [00:00<00:05,  4.07it/s]"
          ]
        },
        {
          "name": "stdout",
          "output_type": "stream",
          "text": [
            "test 69345\n",
            "train 24955\n",
            "train 24956\n"
          ]
        },
        {
          "name": "stderr",
          "output_type": "stream",
          "text": [
            " 35%|███▍      | 9/26 [00:00<00:01, 12.93it/s]"
          ]
        },
        {
          "name": "stdout",
          "output_type": "stream",
          "text": [
            "train 24941\n",
            "test 24960\n",
            "train 24961\n",
            "train 24962\n"
          ]
        },
        {
          "name": "stderr",
          "output_type": "stream",
          "text": [
            "\r 58%|█████▊    | 15/26 [00:00<00:00, 21.99it/s]"
          ]
        },
        {
          "name": "stdout",
          "output_type": "stream",
          "text": [
            "train 65824\n",
            "train 24973\n",
            "train 24943\n"
          ]
        },
        {
          "name": "stderr",
          "output_type": "stream",
          "text": [
            "\r 73%|███████▎  | 19/26 [00:02<00:00,  8.18it/s]"
          ]
        },
        {
          "name": "stdout",
          "output_type": "stream",
          "text": [
            "test 24946\n",
            "train 24947\n",
            "train 24940\n"
          ]
        },
        {
          "name": "stderr",
          "output_type": "stream",
          "text": [
            "100%|██████████| 26/26 [00:02<00:00, 12.06it/s]\n"
          ]
        },
        {
          "name": "stdout",
          "output_type": "stream",
          "text": [
            "test 24952\n",
            "train 24954\n",
            "[{'bbox': [0, 0, 360, 240], 'fps': 25, 'frame_end': 3997, 'frame_start': 3938, 'instance_id': 0, 'signer_id': 9, 'source': 'asl5200', 'split': 'test', 'url': 'https://www.youtube.com/watch?v=PPmQd2zWdP0', 'variation_id': 0, 'video_id': '11305'}, {'bbox': [348, 11, 932, 720], 'fps': 25, 'frame_end': 51, 'frame_start': 1, 'instance_id': 1, 'signer_id': 115, 'source': 'lillybauer', 'split': 'train', 'url': 'https://www.youtube.com/watch?v=RVnoNW53qFU', 'variation_id': 0, 'video_id': '68870'}, {'bbox': [210, 0, 661, 480], 'fps': 25, 'frame_end': -1, 'frame_start': 1, 'instance_id': 2, 'signer_id': 110, 'source': 'valencia-asl', 'split': 'train', 'url': 'https://www.youtube.com/watch?v=Xmrvvk8l3_w', 'variation_id': 0, 'video_id': '68024'}, {'bbox': [0, 5, 255, 240], 'fps': 25, 'frame_end': -1, 'frame_start': 1, 'instance_id': 3, 'signer_id': 72, 'source': 'aslpro', 'split': 'train', 'url': 'http://www.aslpro.com//main/c/clothes.swf', 'variation_id': 0, 'video_id': '11327'}, {'bbox': [14, 8, 243, 240], 'fps': 25, 'frame_end': -1, 'frame_start': 1, 'instance_id': 4, 'signer_id': 72, 'source': 'aslpro', 'split': 'train', 'url': 'http://www.aslpro.com//main/c/clothes_winter.swf', 'variation_id': 0, 'video_id': '11328'}, {'bbox': [403, 67, 893, 720], 'fps': 25, 'frame_end': -1, 'frame_start': 1, 'instance_id': 5, 'signer_id': 38, 'source': 'startasl', 'split': 'train', 'url': 'https://s3-us-west-1.amazonaws.com/files.startasl.com/asldictionary/clothes.mp4', 'variation_id': 0, 'video_id': '11310'}, {'bbox': [12, 7, 236, 240], 'fps': 25, 'frame_end': -1, 'frame_start': 1, 'instance_id': 6, 'signer_id': 72, 'source': 'aslpro', 'split': 'train', 'url': 'http://www.aslpro.com//main/c/clothes_womens.swf', 'variation_id': 0, 'video_id': '11329'}, {'bbox': [165, 51, 578, 400], 'fps': 25, 'frame_end': -1, 'frame_start': 1, 'instance_id': 7, 'signer_id': 12, 'source': 'aslsearch', 'split': 'train', 'url': 'http://www.aslsearch.com/signs/videos/clothes.mp4', 'variation_id': 0, 'video_id': '11330'}, {'bbox': [70, 21, 614, 480], 'fps': 25, 'frame_end': -1, 'frame_start': 1, 'instance_id': 8, 'signer_id': 59, 'source': 'asldeafined', 'split': 'test', 'url': 'https://media.asldeafined.com/vocabulary/1466899298.7370.mp4', 'variation_id': 0, 'video_id': '11311'}, {'bbox': [42, 0, 612, 480], 'fps': 25, 'frame_end': -1, 'frame_start': 1, 'instance_id': 9, 'signer_id': 20, 'source': 'handspeak', 'split': 'train', 'url': 'https://www.handspeak.com/word/c/clothes.mp4', 'variation_id': 0, 'video_id': '11312'}, {'bbox': [56, 8, 243, 192], 'fps': 25, 'frame_end': -1, 'frame_start': 1, 'instance_id': 10, 'signer_id': 11, 'source': 'signingsavvy', 'split': 'train', 'url': 'https://www.signingsavvy.com/signs/mp4/6/6566.mp4', 'variation_id': 0, 'video_id': '11313'}, {'bbox': [242, 43, 1134, 720], 'fps': 25, 'frame_end': -1, 'frame_start': 1, 'instance_id': 11, 'signer_id': 5, 'source': 'aslu', 'split': 'val', 'url': 'https://www.youtube.com/watch?v=06hMAkUdQgg', 'variation_id': 0, 'video_id': '11314'}, {'bbox': [341, 49, 999, 720], 'fps': 25, 'frame_end': -1, 'frame_start': 1, 'instance_id': 12, 'signer_id': 5, 'source': 'aslu', 'split': 'val', 'url': 'https://www.youtube.com/watch?v=15czV0-SagI', 'variation_id': 0, 'video_id': '11315'}, {'bbox': [21, 2, 304, 240], 'fps': 25, 'frame_end': -1, 'frame_start': 1, 'instance_id': 13, 'signer_id': 42, 'source': 'spreadthesign', 'split': 'train', 'url': 'https://media.spreadthesign.com/video/mp4/13/399310.mp4', 'variation_id': 0, 'video_id': '11309'}, {'bbox': [320, 28, 968, 720], 'fps': 25, 'frame_end': -1, 'frame_start': 1, 'instance_id': 14, 'signer_id': 5, 'source': 'aslu', 'split': 'train', 'url': 'https://www.youtube.com/watch?v=mda48XkT9gQ', 'variation_id': 0, 'video_id': '11316'}, {'bbox': [3, 6, 240, 240], 'fps': 25, 'frame_end': -1, 'frame_start': 1, 'instance_id': 15, 'signer_id': 72, 'source': 'aslpro', 'split': 'train', 'url': 'http://www.aslpro.com//main/c/clothes_boys.swf', 'variation_id': 0, 'video_id': '11317'}, {'bbox': [0, 6, 224, 240], 'fps': 25, 'frame_end': -1, 'frame_start': 1, 'instance_id': 16, 'signer_id': 72, 'source': 'aslpro', 'split': 'test', 'url': 'http://www.aslpro.com//main/c/clothes_designer.swf', 'variation_id': 0, 'video_id': '11318'}, {'bbox': [12, 7, 234, 240], 'fps': 25, 'frame_end': -1, 'frame_start': 1, 'instance_id': 17, 'signer_id': 72, 'source': 'aslpro', 'split': 'val', 'url': 'http://www.aslpro.com//main/c/clothes_fall.swf', 'variation_id': 0, 'video_id': '11319'}, {'bbox': [5, 9, 242, 240], 'fps': 25, 'frame_end': -1, 'frame_start': 1, 'instance_id': 18, 'signer_id': 72, 'source': 'aslpro', 'split': 'train', 'url': 'http://www.aslpro.com//main/c/clothes_girls.swf', 'variation_id': 0, 'video_id': '11320'}, {'bbox': [7, 7, 232, 240], 'fps': 25, 'frame_end': -1, 'frame_start': 1, 'instance_id': 19, 'signer_id': 49, 'source': 'aslpro', 'split': 'train', 'url': 'http://www.aslpro.com//main/c/clothes_irregular.swf', 'variation_id': 0, 'video_id': '11321'}, {'bbox': [3, 8, 228, 240], 'fps': 25, 'frame_end': -1, 'frame_start': 1, 'instance_id': 20, 'signer_id': 72, 'source': 'aslpro', 'split': 'train', 'url': 'http://www.aslpro.com//main/c/clothes_mens.swf', 'variation_id': 0, 'video_id': '11322'}, {'bbox': [8, 5, 238, 240], 'fps': 25, 'frame_end': -1, 'frame_start': 1, 'instance_id': 21, 'signer_id': 72, 'source': 'aslpro', 'split': 'train', 'url': 'http://www.aslpro.com//main/c/clothes_petite.swf', 'variation_id': 0, 'video_id': '11323'}, {'bbox': [0, 9, 254, 240], 'fps': 25, 'frame_end': -1, 'frame_start': 1, 'instance_id': 22, 'signer_id': 72, 'source': 'aslpro', 'split': 'train', 'url': 'http://www.aslpro.com//main/c/clothes_plus_size.swf', 'variation_id': 0, 'video_id': '11324'}, {'bbox': [14, 8, 238, 240], 'fps': 25, 'frame_end': -1, 'frame_start': 1, 'instance_id': 23, 'signer_id': 72, 'source': 'aslpro', 'split': 'val', 'url': 'http://www.aslpro.com//main/c/clothes_spring.swf', 'variation_id': 0, 'video_id': '11325'}, {'bbox': [13, 8, 241, 240], 'fps': 25, 'frame_end': -1, 'frame_start': 1, 'instance_id': 24, 'signer_id': 72, 'source': 'aslpro', 'split': 'train', 'url': 'http://www.aslpro.com//main/c/clothes_summer.swf', 'variation_id': 0, 'video_id': '11326'}]\n"
          ]
        },
        {
          "name": "stderr",
          "output_type": "stream",
          "text": [
            " 32%|███▏      | 8/25 [00:00<00:01, 12.77it/s]"
          ]
        },
        {
          "name": "stdout",
          "output_type": "stream",
          "text": [
            "train 11310\n",
            "train 11330\n"
          ]
        },
        {
          "name": "stderr",
          "output_type": "stream",
          "text": [
            "100%|██████████| 25/25 [00:00<00:00, 27.99it/s]\n"
          ]
        },
        {
          "name": "stdout",
          "output_type": "stream",
          "text": [
            "test 11311\n",
            "train 11313\n",
            "train 11309\n",
            "[{'bbox': [0, 0, 360, 240], 'fps': 25, 'frame_end': 2235, 'frame_start': 2159, 'instance_id': 0, 'signer_id': 9, 'source': 'asl5200', 'split': 'test', 'url': 'https://www.youtube.com/watch?v=A5dihMAjeTE', 'variation_id': 0, 'video_id': '63219'}, {'bbox': [381, 45, 868, 720], 'fps': 25, 'frame_end': -1, 'frame_start': 1, 'instance_id': 1, 'signer_id': 118, 'source': 'aslbrick', 'split': 'train', 'url': 'http://aslbricks.org/New/ASL-Videos/who.mp4', 'variation_id': 0, 'video_id': '69534'}, {'bbox': [343, 21, 928, 720], 'fps': 25, 'frame_end': 54, 'frame_start': 1, 'instance_id': 2, 'signer_id': 115, 'source': 'lillybauer', 'split': 'train', 'url': 'https://www.youtube.com/watch?v=SQUHKsHMUiw', 'variation_id': 0, 'video_id': '68890'}, {'bbox': [196, 11, 606, 480], 'fps': 25, 'frame_end': -1, 'frame_start': 1, 'instance_id': 3, 'signer_id': 111, 'source': 'valencia-asl', 'split': 'train', 'url': 'https://www.youtube.com/watch?v=Xx8ZjswBRLY', 'variation_id': 0, 'video_id': '68183'}, {'bbox': [356, 43, 951, 720], 'fps': 25, 'frame_end': -1, 'frame_start': 1, 'instance_id': 4, 'signer_id': 5, 'source': 'aslu', 'split': 'train', 'url': 'https://www.youtube.com/watch?v=pBnGrdxhxHQ', 'variation_id': 0, 'video_id': '63239'}, {'bbox': [333, 18, 917, 720], 'fps': 25, 'frame_end': -1, 'frame_start': 1, 'instance_id': 5, 'signer_id': 5, 'source': 'aslu', 'split': 'train', 'url': 'https://www.youtube.com/watch?v=_V31e361KV8', 'variation_id': 0, 'video_id': '63240'}, {'bbox': [25, 8, 223, 240], 'fps': 25, 'frame_end': -1, 'frame_start': 1, 'instance_id': 6, 'signer_id': 87, 'source': 'aslpro', 'split': 'train', 'url': 'http://www.aslpro.com/main/w/who.swf', 'variation_id': 0, 'video_id': '63241'}, {'bbox': [188, 55, 546, 400], 'fps': 25, 'frame_end': -1, 'frame_start': 1, 'instance_id': 7, 'signer_id': 12, 'source': 'aslsearch', 'split': 'train', 'url': 'http://www.aslsearch.com/signs/videos/who.mp4', 'variation_id': 0, 'video_id': '63242'}, {'bbox': [235, 15, 526, 414], 'fps': 25, 'frame_end': -1, 'frame_start': 1, 'instance_id': 8, 'signer_id': 36, 'source': 'startasl', 'split': 'test', 'url': 'https://s3-us-west-1.amazonaws.com/files.startasl.com/asldictionary/who.mp4', 'variation_id': 0, 'video_id': '63226'}, {'bbox': [687, 96, 1421, 1080], 'fps': 25, 'frame_end': -1, 'frame_start': 1, 'instance_id': 9, 'signer_id': 6, 'source': 'signschool', 'split': 'train', 'url': 'https://signstock.blob.core.windows.net/signschool/videos/db_uploads/SignSchool%20Who%202-P20hHY3qUEQ.mp4', 'variation_id': 0, 'video_id': '63227'}, {'bbox': [693, 88, 1401, 1080], 'fps': 25, 'frame_end': -1, 'frame_start': 1, 'instance_id': 10, 'signer_id': 6, 'source': 'signschool', 'split': 'train', 'url': 'https://signstock.blob.core.windows.net/signschool/videos/db_uploads/SignSchool%20Who-rehp_kwiS-I.mp4', 'variation_id': 0, 'video_id': '63228'}, {'bbox': [655, 72, 1505, 1071], 'fps': 25, 'frame_end': -1, 'frame_start': 1, 'instance_id': 11, 'signer_id': 4, 'source': 'signschool', 'split': 'val', 'url': 'https://signstock.blob.core.windows.net/signschool/videos/db_uploads/SignSchool%20Who-wmIY6Yo-vp8.mp4', 'variation_id': 0, 'video_id': '63229'}, {'bbox': [342, 20, 1162, 1080], 'fps': 25, 'frame_end': -1, 'frame_start': 1, 'instance_id': 12, 'signer_id': 46, 'source': 'signschool', 'split': 'val', 'url': 'https://signstock.blob.core.windows.net/signschool/videos/db_uploads/SignSchool%20Who-xchfz0eTaP8.mp4', 'variation_id': 0, 'video_id': '63230'}, {'bbox': [128, 8, 517, 480], 'fps': 25, 'frame_end': -1, 'frame_start': 1, 'instance_id': 13, 'signer_id': 13, 'source': 'asldeafined', 'split': 'train', 'url': 'https://media.asldeafined.com/vocabulary/1468928348.68.mp4', 'variation_id': 0, 'video_id': '63231'}, {'bbox': [165, 4, 472, 370], 'fps': 25, 'frame_end': -1, 'frame_start': 1, 'instance_id': 14, 'signer_id': 88, 'source': 'aslsignbank', 'split': 'train', 'url': 'https://aslsignbank.haskins.yale.edu/dictionary/protected_media/glossvideo/ASL/WH/WHO-1430.mp4', 'variation_id': 0, 'video_id': '66778'}, {'bbox': [112, 28, 507, 480], 'fps': 25, 'frame_end': -1, 'frame_start': 1, 'instance_id': 15, 'signer_id': 59, 'source': 'asldeafined', 'split': 'train', 'url': 'https://media.asldeafined.com/vocabulary/1539176590.1089.mp4', 'variation_id': 0, 'video_id': '63232'}, {'bbox': [121, 12, 533, 480], 'fps': 25, 'frame_end': -1, 'frame_start': 1, 'instance_id': 16, 'signer_id': 14, 'source': 'handspeak', 'split': 'test', 'url': 'https://www.handspeak.com/word/w/who.mp4', 'variation_id': 0, 'video_id': '63233'}, {'bbox': [173, 0, 516, 360], 'fps': 25, 'frame_end': -1, 'frame_start': 1, 'instance_id': 17, 'signer_id': 20, 'source': 'handspeak', 'split': 'val', 'url': 'https://www.handspeak.com/word/w/who-old.mp4', 'variation_id': 0, 'video_id': '63234'}, {'bbox': [167, 3, 471, 370], 'fps': 25, 'frame_end': -1, 'frame_start': 1, 'instance_id': 18, 'signer_id': 88, 'source': 'aslsignbank', 'split': 'train', 'url': 'https://aslsignbank.haskins.yale.edu/dictionary/protected_media/glossvideo/ASL/WH/WHO-2236.mp4', 'variation_id': 0, 'video_id': '66779'}, {'bbox': [195, 32, 472, 370], 'fps': 25, 'frame_end': -1, 'frame_start': 1, 'instance_id': 19, 'signer_id': 93, 'source': 'aslsignbank', 'split': 'train', 'url': 'https://aslsignbank.haskins.yale.edu/dictionary/protected_media/glossvideo/WH/WHO-2283.mp4', 'variation_id': 0, 'video_id': '66780'}, {'bbox': [35, 0, 293, 240], 'fps': 25, 'frame_end': -1, 'frame_start': 1, 'instance_id': 20, 'signer_id': 42, 'source': 'spreadthesign', 'split': 'train', 'url': 'https://media.spreadthesign.com/video/mp4/13/51811.mp4', 'variation_id': 0, 'video_id': '63225'}, {'bbox': [115, 29, 371, 360], 'fps': 25, 'frame_end': -1, 'frame_start': 1, 'instance_id': 21, 'signer_id': 109, 'source': 'asllex', 'split': 'train', 'url': 'https://youtu.be/gDkZ2Zn3Sjg', 'variation_id': 0, 'video_id': '67066'}, {'bbox': [81, 19, 207, 192], 'fps': 25, 'frame_end': -1, 'frame_start': 1, 'instance_id': 23, 'signer_id': 11, 'source': 'signingsavvy', 'split': 'train', 'url': 'https://www.signingsavvy.com/signs/mp4/9/9019.mp4', 'variation_id': 0, 'video_id': '63236'}, {'bbox': [82, 17, 212, 192], 'fps': 25, 'frame_end': -1, 'frame_start': 1, 'instance_id': 24, 'signer_id': 11, 'source': 'signingsavvy', 'split': 'val', 'url': 'https://www.signingsavvy.com/signs/mp4/9/9020.mp4', 'variation_id': 0, 'video_id': '63237'}, {'bbox': [373, 118, 828, 720], 'fps': 25, 'frame_end': -1, 'frame_start': 1, 'instance_id': 25, 'signer_id': 80, 'source': 'nabboud', 'split': 'train', 'url': 'https://www.youtube.com/watch?v=dnDu1DxXWo4', 'variation_id': 0, 'video_id': '63238'}]\n"
          ]
        },
        {
          "name": "stderr",
          "output_type": "stream",
          "text": [
            "  8%|▊         | 2/25 [00:00<00:06,  3.60it/s]"
          ]
        },
        {
          "name": "stdout",
          "output_type": "stream",
          "text": [
            "train 69534\n"
          ]
        },
        {
          "name": "stderr",
          "output_type": "stream",
          "text": [
            "\r 32%|███▏      | 8/25 [00:00<00:01, 10.68it/s]"
          ]
        },
        {
          "name": "stdout",
          "output_type": "stream",
          "text": [
            "train 63242\n",
            "test 63226\n"
          ]
        },
        {
          "name": "stderr",
          "output_type": "stream",
          "text": [
            "\r 40%|████      | 10/25 [00:02<00:03,  4.15it/s]"
          ]
        },
        {
          "name": "stdout",
          "output_type": "stream",
          "text": [
            "train 63227\n"
          ]
        },
        {
          "name": "stderr",
          "output_type": "stream",
          "text": [
            "\r 44%|████▍     | 11/25 [00:02<00:04,  3.19it/s]"
          ]
        },
        {
          "name": "stdout",
          "output_type": "stream",
          "text": [
            "train 63228\n"
          ]
        },
        {
          "name": "stderr",
          "output_type": "stream",
          "text": [
            "\r 48%|████▊     | 12/25 [00:03<00:05,  2.55it/s]"
          ]
        },
        {
          "name": "stdout",
          "output_type": "stream",
          "text": [
            "test 63229\n"
          ]
        },
        {
          "name": "stderr",
          "output_type": "stream",
          "text": [
            " 56%|█████▌    | 14/25 [00:04<00:04,  2.57it/s]"
          ]
        },
        {
          "name": "stdout",
          "output_type": "stream",
          "text": [
            "test 63230\n",
            "train 63231\n"
          ]
        },
        {
          "name": "stderr",
          "output_type": "stream",
          "text": [
            " 64%|██████▍   | 16/25 [00:04<00:02,  3.60it/s]"
          ]
        },
        {
          "name": "stdout",
          "output_type": "stream",
          "text": [
            "train 66778\n",
            "train 63232\n"
          ]
        },
        {
          "name": "stderr",
          "output_type": "stream",
          "text": [
            "100%|██████████| 25/25 [00:04<00:00,  5.08it/s]\n"
          ]
        },
        {
          "name": "stdout",
          "output_type": "stream",
          "text": [
            "train 66779\n",
            "train 63225\n",
            "train 63236\n",
            "test 63237\n",
            "[{'bbox': [0, 0, 360, 240], 'fps': 25, 'frame_end': 782, 'frame_start': 730, 'instance_id': 0, 'signer_id': 9, 'source': 'asl5200', 'split': 'train', 'url': 'https://www.youtube.com/watch?v=PPmQd2zWdP0', 'variation_id': 0, 'video_id': '08909'}, {'bbox': [114, 0, 1155, 720], 'fps': 25, 'frame_end': -1, 'frame_start': 1, 'instance_id': 1, 'signer_id': 109, 'source': 'valencia-asl', 'split': 'train', 'url': 'https://www.youtube.com/watch?v=LMQ4kaHPS48', 'variation_id': 1, 'video_id': '68018'}, {'bbox': [126, 32, 284, 240], 'fps': 25, 'frame_end': 5411, 'frame_start': 5286, 'instance_id': 2, 'signer_id': 121, 'source': 'northtexas', 'split': 'train', 'url': 'https://www.youtube.com/watch?v=pc0-gVEETVg', 'variation_id': 1, 'video_id': '70326'}, {'bbox': [112, 16, 539, 357], 'fps': 25, 'frame_end': 63, 'frame_start': 1, 'instance_id': 3, 'signer_id': 113, 'source': 'lillybauer', 'split': 'train', 'url': 'https://www.youtube.com/watch?v=PfobLrBH5G8', 'variation_id': 1, 'video_id': '68790'}, {'bbox': [33, 4, 230, 240], 'fps': 25, 'frame_end': -1, 'frame_start': 1, 'instance_id': 4, 'signer_id': 49, 'source': 'aslpro', 'split': 'train', 'url': 'http://www.aslpro.com/main/c/candy.swf', 'variation_id': 0, 'video_id': '08928'}, {'bbox': [153, 55, 539, 400], 'fps': 25, 'frame_end': -1, 'frame_start': 1, 'instance_id': 5, 'signer_id': 12, 'source': 'aslsearch', 'split': 'val', 'url': 'http://www.aslsearch.com/signs/videos/candy.mp4', 'variation_id': 1, 'video_id': '08929'}, {'bbox': [163, 14, 517, 414], 'fps': 25, 'frame_end': -1, 'frame_start': 1, 'instance_id': 6, 'signer_id': 36, 'source': 'startasl', 'split': 'train', 'url': 'https://s3-us-west-1.amazonaws.com/files.startasl.com/asldictionary/candy.mp4', 'variation_id': 1, 'video_id': '08916'}, {'bbox': [784, 153, 1501, 1080], 'fps': 25, 'frame_end': -1, 'frame_start': 1, 'instance_id': 7, 'signer_id': 39, 'source': 'signschool', 'split': 'train', 'url': 'https://signstock.blob.core.windows.net/signschool/videos/db_uploads/SignSchool%20Candy%2C%20It%27s%20Nothing%202-dsVi-FR4eBg.mp4', 'variation_id': 0, 'video_id': '08917'}, {'bbox': [774, 153, 1499, 1080], 'fps': 25, 'frame_end': -1, 'frame_start': 1, 'instance_id': 8, 'signer_id': 39, 'source': 'signschool', 'split': 'val', 'url': 'https://signstock.blob.core.windows.net/signschool/videos/db_uploads/SignSchool%20Candy%2C%20It%27s%20Nothing-YX3NQ7iEwiE.mp4', 'variation_id': 0, 'video_id': '08918'}, {'bbox': [647, 60, 1538, 1065], 'fps': 25, 'frame_end': -1, 'frame_start': 1, 'instance_id': 9, 'signer_id': 4, 'source': 'signschool', 'split': 'train', 'url': 'https://signstock.blob.core.windows.net/signschool/videos/db_uploads/SignSchool%20Candy-v1iNoQ1DZ7c.mp4', 'variation_id': 1, 'video_id': '08919'}, {'bbox': [675, 65, 1529, 1060], 'fps': 25, 'frame_end': -1, 'frame_start': 1, 'instance_id': 10, 'signer_id': 4, 'source': 'signschool', 'split': 'train', 'url': 'https://signstock.blob.core.windows.net/signschool/videos/db_uploads/SignSchool%20Cute-Dl2ekdgVRTg.mp4', 'variation_id': 0, 'video_id': '08920'}, {'bbox': [66, 24, 572, 480], 'fps': 25, 'frame_end': -1, 'frame_start': 1, 'instance_id': 11, 'signer_id': 17, 'source': 'asldeafined', 'split': 'train', 'url': 'https://media.asldeafined.com/vocabulary/1471144833.8086.mp4', 'variation_id': 1, 'video_id': '08921'}, {'bbox': [56, 15, 264, 240], 'fps': 25, 'frame_end': -1, 'frame_start': 1, 'instance_id': 12, 'signer_id': 14, 'source': 'handspeak', 'split': 'val', 'url': 'https://www.handspeak.com/word/c/candy-sweet.mp4', 'variation_id': 0, 'video_id': '08922'}, {'bbox': [16, 8, 268, 240], 'fps': 25, 'frame_end': -1, 'frame_start': 1, 'instance_id': 13, 'signer_id': 14, 'source': 'handspeak', 'split': 'train', 'url': 'https://www.handspeak.com/word/c/candy-usa.mp4', 'variation_id': 1, 'video_id': '08923'}, {'bbox': [186, 15, 467, 370], 'fps': 25, 'frame_end': -1, 'frame_start': 1, 'instance_id': 14, 'signer_id': 90, 'source': 'aslsignbank', 'split': 'train', 'url': 'https://aslsignbank.haskins.yale.edu/dictionary/protected_media/glossvideo/ASL/CA/CANDY_1-66.mp4', 'variation_id': 0, 'video_id': '65298'}, {'bbox': [80, 11, 216, 192], 'fps': 25, 'frame_end': -1, 'frame_start': 1, 'instance_id': 15, 'signer_id': 11, 'source': 'signingsavvy', 'split': 'train', 'url': 'https://www.signingsavvy.com/signs/mp4/6/6123.mp4', 'variation_id': 0, 'video_id': '08924'}, {'bbox': [136, 16, 469, 370], 'fps': 25, 'frame_end': -1, 'frame_start': 1, 'instance_id': 16, 'signer_id': 90, 'source': 'aslsignbank', 'split': 'train', 'url': 'https://aslsignbank.haskins.yale.edu/dictionary/protected_media/glossvideo/ASL/CA/CANDY_1-67.mp4', 'variation_id': 1, 'video_id': '65299'}, {'bbox': [195, 16, 467, 370], 'fps': 25, 'frame_end': -1, 'frame_start': 1, 'instance_id': 17, 'signer_id': 89, 'source': 'aslsignbank', 'split': 'test', 'url': 'https://aslsignbank.haskins.yale.edu/dictionary/protected_media/glossvideo/ASL/CA/CANDY_2-1014.mp4', 'variation_id': 0, 'video_id': '65300'}, {'bbox': [23, 0, 286, 240], 'fps': 25, 'frame_end': -1, 'frame_start': 1, 'instance_id': 18, 'signer_id': 56, 'source': 'spreadthesign', 'split': 'test', 'url': 'https://media.spreadthesign.com/video/mp4/13/51294.mp4', 'variation_id': 1, 'video_id': '08915'}, {'bbox': [147, 19, 426, 360], 'fps': 25, 'frame_end': -1, 'frame_start': 1, 'instance_id': 19, 'signer_id': 109, 'source': 'asllex', 'split': 'val', 'url': 'https://youtu.be/kymMYu5qPhY', 'variation_id': 1, 'video_id': '67468'}, {'bbox': [93, 19, 365, 360], 'fps': 25, 'frame_end': -1, 'frame_start': 1, 'instance_id': 20, 'signer_id': 109, 'source': 'asllex', 'split': 'train', 'url': 'https://youtu.be/xK2QEO7Xld4', 'variation_id': 0, 'video_id': '67470'}, {'bbox': [78, 15, 233, 192], 'fps': 25, 'frame_end': -1, 'frame_start': 1, 'instance_id': 21, 'signer_id': 11, 'source': 'signingsavvy', 'split': 'test', 'url': 'https://www.signingsavvy.com/signs/mp4/7/7906.mp4', 'variation_id': 1, 'video_id': '08925'}, {'bbox': [329, 47, 928, 717], 'fps': 25, 'frame_end': -1, 'frame_start': 1, 'instance_id': 22, 'signer_id': 5, 'source': 'aslu', 'split': 'train', 'url': 'https://www.youtube.com/watch?v=EfJ4xLiX5IA', 'variation_id': 1, 'video_id': '08926'}, {'bbox': [340, 23, 1019, 720], 'fps': 25, 'frame_end': -1, 'frame_start': 1, 'instance_id': 23, 'signer_id': 5, 'source': 'aslu', 'split': 'train', 'url': 'https://www.youtube.com/watch?v=nmD3uqyVAC0', 'variation_id': 1, 'video_id': '08927'}]\n"
          ]
        },
        {
          "name": "stderr",
          "output_type": "stream",
          "text": [
            " 25%|██▌       | 6/24 [00:00<00:00, 36.33it/s]"
          ]
        },
        {
          "name": "stdout",
          "output_type": "stream",
          "text": [
            "test 08929\n",
            "train 08916\n",
            "train 08917\n",
            "test 08918\n"
          ]
        },
        {
          "name": "stderr",
          "output_type": "stream",
          "text": [
            "\r 42%|████▏     | 10/24 [00:02<00:03,  3.64it/s]"
          ]
        },
        {
          "name": "stdout",
          "output_type": "stream",
          "text": [
            "train 08919\n",
            "train 08920\n"
          ]
        },
        {
          "name": "stderr",
          "output_type": "stream",
          "text": [
            " 62%|██████▎   | 15/24 [00:03<00:02,  3.61it/s]"
          ]
        },
        {
          "name": "stdout",
          "output_type": "stream",
          "text": [
            "train 08921\n",
            "train 65298\n"
          ]
        },
        {
          "name": "stderr",
          "output_type": "stream",
          "text": [
            "\r 71%|███████   | 17/24 [00:04<00:01,  4.26it/s]"
          ]
        },
        {
          "name": "stdout",
          "output_type": "stream",
          "text": [
            "train 08924\n",
            "train 65299\n"
          ]
        },
        {
          "name": "stderr",
          "output_type": "stream",
          "text": [
            " 92%|█████████▏| 22/24 [00:04<00:00,  6.91it/s]"
          ]
        },
        {
          "name": "stdout",
          "output_type": "stream",
          "text": [
            "test 65300\n",
            "test 08915\n",
            "test 08925\n"
          ]
        },
        {
          "name": "stderr",
          "output_type": "stream",
          "text": [
            "\r100%|██████████| 24/24 [00:04<00:00,  5.25it/s]\n"
          ]
        },
        {
          "name": "stdout",
          "output_type": "stream",
          "text": [
            "[{'bbox': [134, 17, 491, 370], 'fps': 25, 'frame_end': -1, 'frame_start': 1, 'instance_id': 0, 'signer_id': 102, 'source': 'aslsignbank', 'split': 'test', 'url': 'https://aslsignbank.haskins.yale.edu/dictionary/protected_media/glossvideo/ASL/CO/COUSIN-1171.mp4', 'variation_id': 0, 'video_id': '65415'}, {'bbox': [176, 46, 440, 360], 'fps': 25, 'frame_end': 1262, 'frame_start': 1161, 'instance_id': 1, 'signer_id': 121, 'source': 'northtexas', 'split': 'train', 'url': 'https://www.youtube.com/watch?v=bq-HmgjGzmw', 'variation_id': 0, 'video_id': '70332'}, {'bbox': [275, 19, 882, 720], 'fps': 25, 'frame_end': 39, 'frame_start': 1, 'instance_id': 2, 'signer_id': 112, 'source': 'lillybauer', 'split': 'train', 'url': 'https://www.youtube.com/watch?v=jC6sHiZBEyI', 'variation_id': 0, 'video_id': '68592'}, {'bbox': [205, 43, 479, 400], 'fps': 25, 'frame_end': -1, 'frame_start': 1, 'instance_id': 3, 'signer_id': 41, 'source': 'aslsearch', 'split': 'train', 'url': 'http://www.aslsearch.com/signs/videos/cousin3.mp4', 'variation_id': 0, 'video_id': '13647'}, {'bbox': [192, 41, 488, 400], 'fps': 25, 'frame_end': -1, 'frame_start': 1, 'instance_id': 4, 'signer_id': 41, 'source': 'aslsearch', 'split': 'train', 'url': 'http://www.aslsearch.com/signs/videos/cousin.mp4', 'variation_id': 0, 'video_id': '13648'}, {'bbox': [463, 67, 856, 720], 'fps': 25, 'frame_end': -1, 'frame_start': 1, 'instance_id': 5, 'signer_id': 38, 'source': 'startasl', 'split': 'train', 'url': 'https://s3-us-west-1.amazonaws.com/files.startasl.com/asldictionary/cousin-female.mp4', 'variation_id': 0, 'video_id': '13631'}, {'bbox': [428, 69, 853, 720], 'fps': 25, 'frame_end': -1, 'frame_start': 1, 'instance_id': 6, 'signer_id': 38, 'source': 'startasl', 'split': 'train', 'url': 'https://s3-us-west-1.amazonaws.com/files.startasl.com/asldictionary/cousin-male.mp4', 'variation_id': 0, 'video_id': '13632'}, {'bbox': [297, 16, 772, 480], 'fps': 25, 'frame_end': -1, 'frame_start': 1, 'instance_id': 7, 'signer_id': 60, 'source': 'signschool', 'split': 'val', 'url': 'https://signstock.blob.core.windows.net/signschool/videos/db_uploads/SignSchool%20Cousin-WACMzmRGgY8.mp4', 'variation_id': 0, 'video_id': '13633'}, {'bbox': [99, 24, 512, 480], 'fps': 25, 'frame_end': -1, 'frame_start': 1, 'instance_id': 8, 'signer_id': 59, 'source': 'asldeafined', 'split': 'val', 'url': 'https://media.asldeafined.com/vocabulary/1466904377.9296.mp4', 'variation_id': 0, 'video_id': '13634'}, {'bbox': [59, 25, 528, 480], 'fps': 25, 'frame_end': -1, 'frame_start': 1, 'instance_id': 9, 'signer_id': 59, 'source': 'asldeafined', 'split': 'test', 'url': 'https://media.asldeafined.com/vocabulary/1466904400.1624.mp4', 'variation_id': 0, 'video_id': '13635'}, {'bbox': [55, 27, 520, 480], 'fps': 25, 'frame_end': -1, 'frame_start': 1, 'instance_id': 10, 'signer_id': 59, 'source': 'asldeafined', 'split': 'train', 'url': 'https://media.asldeafined.com/vocabulary/1539177107.4884.mp4', 'variation_id': 0, 'video_id': '13636'}, {'bbox': [49, 17, 258, 240], 'fps': 25, 'frame_end': -1, 'frame_start': 1, 'instance_id': 11, 'signer_id': 14, 'source': 'handspeak', 'split': 'train', 'url': 'https://www.handspeak.com/word/c/cousin-female.mp4', 'variation_id': 0, 'video_id': '13637'}, {'bbox': [31, 16, 254, 240], 'fps': 25, 'frame_end': -1, 'frame_start': 1, 'instance_id': 12, 'signer_id': 14, 'source': 'handspeak', 'split': 'train', 'url': 'https://www.handspeak.com/word/c/cousin-male.mp4', 'variation_id': 0, 'video_id': '13638'}, {'bbox': [67, 17, 251, 234], 'fps': 25, 'frame_end': -1, 'frame_start': 1, 'instance_id': 13, 'signer_id': 35, 'source': 'spreadthesign', 'split': 'train', 'url': 'https://media.spreadthesign.com/video/mp4/13/47501.mp4', 'variation_id': 0, 'video_id': '13630'}, {'bbox': [63, 15, 257, 240], 'fps': 25, 'frame_end': -1, 'frame_start': 1, 'instance_id': 14, 'signer_id': 14, 'source': 'handspeak', 'split': 'val', 'url': 'https://www.handspeak.com/word/c/cousin.mp4', 'variation_id': 0, 'video_id': '13639'}, {'bbox': [86, 20, 382, 360], 'fps': 25, 'frame_end': -1, 'frame_start': 1, 'instance_id': 15, 'signer_id': 109, 'source': 'asllex', 'split': 'test', 'url': 'https://youtu.be/mBNbzPNTVqk', 'variation_id': 0, 'video_id': '67535'}, {'bbox': [52, 9, 225, 192], 'fps': 25, 'frame_end': -1, 'frame_start': 1, 'instance_id': 16, 'signer_id': 11, 'source': 'signingsavvy', 'split': 'train', 'url': 'https://www.signingsavvy.com/signs/mp4/6/6148.mp4', 'variation_id': 0, 'video_id': '13640'}, {'bbox': [79, 8, 222, 192], 'fps': 25, 'frame_end': -1, 'frame_start': 1, 'instance_id': 17, 'signer_id': 11, 'source': 'signingsavvy', 'split': 'val', 'url': 'https://www.signingsavvy.com/signs/mp4/6/6150.mp4', 'variation_id': 0, 'video_id': '13641'}, {'bbox': [54, 9, 222, 192], 'fps': 25, 'frame_end': -1, 'frame_start': 1, 'instance_id': 18, 'signer_id': 11, 'source': 'signingsavvy', 'split': 'train', 'url': 'https://www.signingsavvy.com/signs/mp4/6/6568.mp4', 'variation_id': 0, 'video_id': '13642'}, {'bbox': [240, 25, 965, 720], 'fps': 25, 'frame_end': -1, 'frame_start': 1, 'instance_id': 19, 'signer_id': 5, 'source': 'aslu', 'split': 'train', 'url': 'https://www.youtube.com/watch?v=e9-jd3sf6us', 'variation_id': 0, 'video_id': '13643'}, {'bbox': [4, 11, 199, 240], 'fps': 25, 'frame_end': -1, 'frame_start': 1, 'instance_id': 20, 'signer_id': 24, 'source': 'aslpro', 'split': 'train', 'url': 'http://www.aslpro.com/main/c/cousin_female.swf', 'variation_id': 0, 'video_id': '13644'}, {'bbox': [2, 13, 205, 240], 'fps': 25, 'frame_end': -1, 'frame_start': 1, 'instance_id': 21, 'signer_id': 24, 'source': 'aslpro', 'split': 'train', 'url': 'http://www.aslpro.com/main/c/cousin_male.swf', 'variation_id': 0, 'video_id': '13645'}, {'bbox': [174, 36, 487, 400], 'fps': 25, 'frame_end': -1, 'frame_start': 1, 'instance_id': 22, 'signer_id': 41, 'source': 'aslsearch', 'split': 'train', 'url': 'http://www.aslsearch.com/signs/videos/cousin2.mp4', 'variation_id': 0, 'video_id': '13646'}]\n"
          ]
        },
        {
          "name": "stderr",
          "output_type": "stream",
          "text": [
            "  4%|▍         | 1/23 [00:00<00:05,  4.29it/s]"
          ]
        },
        {
          "name": "stdout",
          "output_type": "stream",
          "text": [
            "test 65415\n"
          ]
        },
        {
          "name": "stderr",
          "output_type": "stream",
          "text": [
            " 22%|██▏       | 5/23 [00:00<00:02,  7.61it/s]"
          ]
        },
        {
          "name": "stdout",
          "output_type": "stream",
          "text": [
            "train 13647\n",
            "train 13648\n"
          ]
        },
        {
          "name": "stderr",
          "output_type": "stream",
          "text": [
            "\r 26%|██▌       | 6/23 [00:01<00:03,  4.32it/s]"
          ]
        },
        {
          "name": "stdout",
          "output_type": "stream",
          "text": [
            "train 13631\n"
          ]
        },
        {
          "name": "stderr",
          "output_type": "stream",
          "text": [
            "\r 30%|███       | 7/23 [00:01<00:04,  3.33it/s]"
          ]
        },
        {
          "name": "stdout",
          "output_type": "stream",
          "text": [
            "train 13632\n"
          ]
        },
        {
          "name": "stderr",
          "output_type": "stream",
          "text": [
            " 39%|███▉      | 9/23 [00:01<00:03,  4.15it/s]"
          ]
        },
        {
          "name": "stdout",
          "output_type": "stream",
          "text": [
            "test 13633\n",
            "test 13634\n"
          ]
        },
        {
          "name": "stderr",
          "output_type": "stream",
          "text": [
            " 48%|████▊     | 11/23 [00:02<00:02,  4.67it/s]"
          ]
        },
        {
          "name": "stdout",
          "output_type": "stream",
          "text": [
            "test 13635\n",
            "train 13636\n"
          ]
        },
        {
          "name": "stderr",
          "output_type": "stream",
          "text": [
            "\r 74%|███████▍  | 17/23 [00:02<00:00, 13.73it/s]"
          ]
        },
        {
          "name": "stdout",
          "output_type": "stream",
          "text": [
            "train 13630\n",
            "train 13640\n",
            "test 13641\n",
            "train 13642\n"
          ]
        },
        {
          "name": "stderr",
          "output_type": "stream",
          "text": [
            "100%|██████████| 23/23 [00:02<00:00,  8.53it/s]"
          ]
        },
        {
          "name": "stdout",
          "output_type": "stream",
          "text": [
            "train 13646\n",
            "119\n"
          ]
        },
        {
          "name": "stderr",
          "output_type": "stream",
          "text": [
            "\n"
          ]
        }
      ],
      "source": [
        "import os\n",
        "import cv2\n",
        "import shutil\n",
        "import time\n",
        "import json\n",
        "from tqdm import tqdm\n",
        "\n",
        "\n",
        "def vidToFrame(vid_file,out_dir):\n",
        "\n",
        "\n",
        "    video_capture = cv2.VideoCapture(vid_file)\n",
        "\n",
        "    # Create the output folder if it doesn't exist\n",
        "    os.makedirs(out_dir, exist_ok=True)\n",
        "\n",
        "    # Initialize frame count and flag\n",
        "    vid_cnt = 0\n",
        "    success = True\n",
        "\n",
        "    frame_count=0\n",
        "    while frame_count < 48:\n",
        "\n",
        "        frame_count += 1\n",
        "        success, frame = video_capture.read()\n",
        "        frame_path = os.path.join(out_dir, f\"frame_{frame_count}.jpg\")\n",
        "\n",
        "        if frame is not None:\n",
        "            cv2.imwrite(frame_path, frame)\n",
        "\n",
        "        if cv2.waitKey(20) & 0xFF == ord('q') :\n",
        "            break\n",
        "\n",
        "    video_capture.release()\n",
        "    cv2.destroyAllWindows()\n",
        "\n",
        "file_path = risangbaskoro_wlasl_processed_path + '/WLASL_v0.3.json'\n",
        "missing_file_path = risangbaskoro_wlasl_processed_path + '/missing.txt'\n",
        "videos_dir = risangbaskoro_wlasl_processed_path + '/videos/'\n",
        "\n",
        "# Load the WLASL dataset\n",
        "with open(file_path) as file:\n",
        "    wlasl = json.load(file)\n",
        "\n",
        "# Read the missing video IDs from the file\n",
        "with open(missing_file_path, 'r') as file:\n",
        "    missing_videos = file.read().splitlines()\n",
        "print(len(missing_videos))\n",
        "# Specify the base directory for the dataset\n",
        "dataset_dir = '/kaggle/working/Dataset/frames'\n",
        "\n",
        "# Create necessary directories\n",
        "os.makedirs(dataset_dir, exist_ok=True)\n",
        "os.makedirs(os.path.join(dataset_dir, 'Train'), exist_ok=True)\n",
        "os.makedirs(os.path.join(dataset_dir, 'Test'), exist_ok=True)\n",
        "vids = []\n",
        "i = 0\n",
        "# Process each class in the WLASL dataset\n",
        "for class_data in wlasl:\n",
        "    class_name = class_data['gloss']\n",
        "    #print(class_name)\n",
        "    print(class_data['instances'])\n",
        "\n",
        "    for instance in tqdm(class_data['instances']):\n",
        "\n",
        "        video_id = instance['video_id']\n",
        "\n",
        "\n",
        "        if video_id not in missing_videos:\n",
        "            vids.append(video_id)\n",
        "            video_file = os.path.join(videos_dir, video_id + '.mp4')\n",
        "\n",
        "            if instance['split'] == 'train':\n",
        "                train_dir = os.path.join(dataset_dir, 'Train', class_name, video_id)\n",
        "                os.makedirs(train_dir, exist_ok=True)\n",
        "                vidToFrame(video_file, train_dir)\n",
        "                print('train', video_id)\n",
        "            else:\n",
        "                test_dir = os.path.join(dataset_dir, 'Test', class_name, video_id)\n",
        "                os.makedirs(test_dir, exist_ok=True)\n",
        "                vidToFrame(video_file, test_dir)\n",
        "                print('test', video_id)\n",
        "    i += 1\n",
        "    if i == 10:\n",
        "      break\n",
        "print(len(vids))"
      ]
    },
    {
      "cell_type": "code",
      "execution_count": null,
      "metadata": {
        "id": "q5MnYhnSnz3b"
      },
      "outputs": [],
      "source": [
        "import mediapipe as mp\n",
        "import tensorflow as tf\n",
        "import keras\n",
        "import numpy as np\n",
        "import pandas as pd\n",
        "import os\n",
        "import shutil\n",
        "import datetime as dt\n",
        "import matplotlib.pyplot as plt\n",
        "import seaborn as sns\n",
        "from tqdm import tqdm\n",
        "import glob\n",
        "import cv2\n",
        "from keras.utils import to_categorical\n",
        "from keras.models import Sequential\n",
        "from keras.layers import Bidirectional, LSTM, Dense\n",
        "from keras.callbacks import EarlyStopping\n",
        "from sklearn.metrics import multilabel_confusion_matrix, accuracy_score\n",
        "from sklearn.model_selection import train_test_split\n",
        "np.random.seed(42)\n"
      ]
    },
    {
      "cell_type": "markdown",
      "metadata": {
        "id": "cs8pbDDOrRvT"
      },
      "source": [
        "#Model:"
      ]
    },
    {
      "cell_type": "code",
      "execution_count": null,
      "metadata": {
        "id": "eqzIo6v1rTft"
      },
      "outputs": [],
      "source": [
        "# Initialize MediaPipe Holistic and Drawing utilities\n",
        "mp_holistic = mp.solutions.holistic\n",
        "mp_drawing = mp.solutions.drawing_utils\n",
        "\n",
        "def mediapipe_detection(input_image, holistic_model):\n",
        "    \"\"\"\n",
        "    Convert image to RGB, process with MediaPipe Holistic model, and return processed image and results.\n",
        "    \"\"\"\n",
        "    if input_image is None:\n",
        "        raise ValueError(f\"Failed to load image: {input_image}\")\n",
        "\n",
        "    # Convert BGR to RGB for MediaPipe processing\n",
        "    input_image = cv2.cvtColor(input_image, cv2.COLOR_BGR2RGB)\n",
        "\n",
        "    input_image.flags.writeable = False  # Image is no longer writeable for efficient processing\n",
        "    results = holistic_model.process(input_image)  # Process the image to detect landmarks\n",
        "    input_image.flags.writeable = True  # Set image back to writeable\n",
        "    input_image = cv2.cvtColor(input_image, cv2.COLOR_RGB2BGR)  # Convert back to BGR for OpenCV\n",
        "\n",
        "    return input_image, results\n",
        "\n",
        "def draw_styled_landmarks(output_image, detection_results):\n",
        "    \"\"\"\n",
        "    Draw the pose and hand landmarks on the image with different styles.\n",
        "    \"\"\"\n",
        "    # Draw pose landmarks with custom styling\n",
        "    mp_drawing.draw_landmarks(\n",
        "        output_image, detection_results.pose_landmarks, mp_holistic.POSE_CONNECTIONS,\n",
        "        mp_drawing.DrawingSpec(color=(80, 22, 10), thickness=2, circle_radius=4),\n",
        "        mp_drawing.DrawingSpec(color=(80, 44, 121), thickness=2, circle_radius=2)\n",
        "    )\n",
        "\n",
        "    # Draw left hand landmarks\n",
        "    mp_drawing.draw_landmarks(\n",
        "        output_image, detection_results.left_hand_landmarks, mp_holistic.HAND_CONNECTIONS,\n",
        "        mp_drawing.DrawingSpec(color=(121, 22, 76), thickness=2, circle_radius=4),\n",
        "        mp_drawing.DrawingSpec(color=(121, 44, 250), thickness=2, circle_radius=2)\n",
        "    )\n",
        "\n",
        "    # Draw right hand landmarks\n",
        "    mp_drawing.draw_landmarks(\n",
        "        output_image, detection_results.right_hand_landmarks, mp_holistic.HAND_CONNECTIONS,\n",
        "        mp_drawing.DrawingSpec(color=(245, 117, 66), thickness=2, circle_radius=4),\n",
        "        mp_drawing.DrawingSpec(color=(245, 66, 230), thickness=2, circle_radius=2)\n",
        "    )\n",
        "\n",
        "def adjust_landmarks_position(landmark_array, reference_point):\n",
        "    \"\"\"\n",
        "    Adjust landmark positions by subtracting the reference point (e.g., wrist, nose).\n",
        "    \"\"\"\n",
        "    reshaped_landmarks = landmark_array.reshape(-1, 3)  # Reshape to n,3 where n is number of landmarks\n",
        "    repeated_center = np.tile(reference_point, (len(reshaped_landmarks), 1))  # Repeat center reference\n",
        "    adjusted_landmarks = reshaped_landmarks - repeated_center  # Subtract center from landmarks\n",
        "    return adjusted_landmarks.reshape(-1)  # Reshape back to original form\n",
        "\n",
        "def extract_pose_and_hand_keypoints(detection_results):\n",
        "    \"\"\"\n",
        "    Extract keypoints for pose, left hand, and right hand and adjust the coordinates.\n",
        "    \"\"\"\n",
        "    pose_keypoints = np.array([[point.x, point.y, point.z] for point in detection_results.pose_landmarks.landmark]).flatten() if detection_results.pose_landmarks else np.zeros(33 * 3)\n",
        "    left_hand_keypoints = np.array([[point.x, point.y, point.z] for point in detection_results.left_hand_landmarks.landmark]).flatten() if detection_results.left_hand_landmarks else np.zeros(21 * 3)\n",
        "    right_hand_keypoints = np.array([[point.x, point.y, point.z] for point in detection_results.right_hand_landmarks.landmark]).flatten() if detection_results.right_hand_landmarks else np.zeros(21 * 3)\n",
        "\n",
        "    # Adjust the landmarks based on reference points (nose for pose, wrist for hands)\n",
        "    nose_reference = pose_keypoints[:3]\n",
        "    left_hand_wrist_reference = left_hand_keypoints[:3]\n",
        "    right_hand_wrist_reference = right_hand_keypoints[:3]\n",
        "\n",
        "    adjusted_pose = adjust_landmarks_position(pose_keypoints, nose_reference)\n",
        "    adjusted_left_hand = adjust_landmarks_position(left_hand_keypoints, left_hand_wrist_reference)\n",
        "    adjusted_right_hand = adjust_landmarks_position(right_hand_keypoints, right_hand_wrist_reference)\n",
        "\n",
        "    return adjusted_pose, adjusted_left_hand, adjusted_right_hand\n",
        "\n",
        "# List of selected sign words (video folders)\n",
        "sign_words = os.listdir('/kaggle/working/Dataset/frames/Train')\n",
        "\n",
        "def create_keypoint_arrays(source_path, dataset_split):\n",
        "    \"\"\"\n",
        "    Create and save keypoint arrays (pose, left hand, and right hand) for each video in the dataset.\n",
        "    \"\"\"\n",
        "    os.makedirs('/kaggle/working/Dataset/npy_arrays', exist_ok=True)\n",
        "    os.makedirs(f'/kaggle/working/Dataset/npy_arrays/{dataset_split}', exist_ok=True)\n",
        "    output_path = f'/kaggle/working/Dataset/npy_arrays/{dataset_split}'\n",
        "    words_folder = os.path.join(source_path, dataset_split)\n",
        "\n",
        "    missing_words = [word for word in sign_words if word not in os.listdir(output_path)]\n",
        "\n",
        "    for word in tqdm(missing_words):\n",
        "        word_folder = os.path.join(words_folder, word)\n",
        "        video_files = os.listdir(word_folder)\n",
        "\n",
        "        for video_file in video_files:\n",
        "            video_frames = sorted(os.listdir(os.path.join(word_folder, video_file)))\n",
        "\n",
        "            pose_keypoints, left_hand_keypoints, right_hand_keypoints = [], [], []\n",
        "\n",
        "            with mp_holistic.Holistic(min_detection_confidence=0.5, min_tracking_confidence=0.5) as holistic_model:\n",
        "                for frame_file in video_frames:\n",
        "                    frame_path = os.path.join(word_folder, video_file, frame_file)\n",
        "                    frame_image = cv2.imread(frame_path)\n",
        "\n",
        "                    # Process frame and extract keypoints\n",
        "                    frame_image, results = mediapipe_detection(frame_image, holistic_model)\n",
        "                    pose, left_hand, right_hand = extract_pose_and_hand_keypoints(results)\n",
        "\n",
        "                    # Collect keypoints\n",
        "                    pose_keypoints.append(pose)\n",
        "                    left_hand_keypoints.append(left_hand)\n",
        "                    right_hand_keypoints.append(right_hand)\n",
        "\n",
        "                    # Save keypoints as numpy arrays\n",
        "                    for keypoints, directory, key in zip([pose_keypoints, left_hand_keypoints, right_hand_keypoints],\n",
        "                                                         [pose_keypoints, left_hand_keypoints, right_hand_keypoints],\n",
        "                                                         [\"pose_keypoints\", \"lh_keypoints\", \"rh_keypoints\"]):\n",
        "                        keypoint_dir = os.path.join(output_path, word, key)\n",
        "                        os.makedirs(keypoint_dir, exist_ok=True)\n",
        "                        np.save(os.path.join(keypoint_dir, video_file), keypoints)"
      ]
    },
    {
      "cell_type": "code",
      "execution_count": null,
      "metadata": {
        "id": "GYArRKgkrUQA",
        "colab": {
          "base_uri": "https://localhost:8080/",
          "height": 599
        },
        "outputId": "cd3c1c7d-4fc4-46c5-a12b-a6fc9e9c6f14"
      },
      "outputs": [
        {
          "output_type": "stream",
          "name": "stderr",
          "text": [
            "0it [00:00, ?it/s]\n",
            "0it [00:00, ?it/s]\n"
          ]
        },
        {
          "output_type": "stream",
          "name": "stdout",
          "text": [
            "{'deaf': 0, 'chair': 1, 'walk': 2, 'book': 3, 'computer': 4, 'candy': 5, 'go': 6, 'cousin': 7, 'thin': 8, 'no': 9, 'help': 10, 'clothes': 11, 'fine': 12, 'drink': 13, 'before': 14, 'who': 15}\n"
          ]
        },
        {
          "output_type": "stream",
          "name": "stderr",
          "text": [
            "100%|██████████| 2/2 [00:00<00:00, 11199.74it/s]"
          ]
        },
        {
          "output_type": "stream",
          "name": "stdout",
          "text": [
            "data_dir /kaggle/working/Dataset/npy_arrays\n",
            "\n",
            "Test\n",
            "\n",
            "data_dir /kaggle/working/Dataset/npy_arrays\n",
            "\n",
            "Train\n",
            "\n"
          ]
        },
        {
          "output_type": "stream",
          "name": "stderr",
          "text": [
            "\n"
          ]
        },
        {
          "output_type": "error",
          "ename": "ValueError",
          "evalue": "zero-size array to reduction operation maximum which has no identity",
          "traceback": [
            "\u001b[0;31m---------------------------------------------------------------------------\u001b[0m",
            "\u001b[0;31mValueError\u001b[0m                                Traceback (most recent call last)",
            "\u001b[0;32m<ipython-input-18-691a805892a4>\u001b[0m in \u001b[0;36m<cell line: 65>\u001b[0;34m()\u001b[0m\n\u001b[1;32m     63\u001b[0m \u001b[0mdata_path\u001b[0m \u001b[0;34m=\u001b[0m \u001b[0;34m'/kaggle/working/Dataset/npy_arrays'\u001b[0m\u001b[0;34m\u001b[0m\u001b[0;34m\u001b[0m\u001b[0m\n\u001b[1;32m     64\u001b[0m \u001b[0;34m\u001b[0m\u001b[0m\n\u001b[0;32m---> 65\u001b[0;31m \u001b[0mX_train\u001b[0m\u001b[0;34m,\u001b[0m \u001b[0my_train\u001b[0m \u001b[0;34m=\u001b[0m \u001b[0mpreprocess_keypoints_data\u001b[0m\u001b[0;34m(\u001b[0m\u001b[0mdata_path\u001b[0m\u001b[0;34m,\u001b[0m \u001b[0;34m'Train/'\u001b[0m\u001b[0;34m,\u001b[0m \u001b[0;36m48\u001b[0m\u001b[0;34m)\u001b[0m\u001b[0;34m\u001b[0m\u001b[0;34m\u001b[0m\u001b[0m\n\u001b[0m\u001b[1;32m     66\u001b[0m \u001b[0mX_train\u001b[0m\u001b[0;34m,\u001b[0m \u001b[0mX_val\u001b[0m\u001b[0;34m,\u001b[0m \u001b[0my_train\u001b[0m\u001b[0;34m,\u001b[0m \u001b[0my_val\u001b[0m \u001b[0;34m=\u001b[0m \u001b[0mtrain_test_split\u001b[0m\u001b[0;34m(\u001b[0m\u001b[0mX_train\u001b[0m\u001b[0;34m,\u001b[0m \u001b[0my_train\u001b[0m\u001b[0;34m,\u001b[0m \u001b[0mtest_size\u001b[0m\u001b[0;34m=\u001b[0m\u001b[0;36m0.2\u001b[0m\u001b[0;34m,\u001b[0m \u001b[0mrandom_state\u001b[0m\u001b[0;34m=\u001b[0m\u001b[0;36m42\u001b[0m\u001b[0;34m)\u001b[0m\u001b[0;34m\u001b[0m\u001b[0;34m\u001b[0m\u001b[0m\n\u001b[1;32m     67\u001b[0m \u001b[0;34m\u001b[0m\u001b[0m\n",
            "\u001b[0;32m<ipython-input-18-691a805892a4>\u001b[0m in \u001b[0;36mpreprocess_keypoints_data\u001b[0;34m(data_directory, split_name, num_frames_to_average)\u001b[0m\n\u001b[1;32m     56\u001b[0m     \u001b[0;31m# Convert to numpy arrays and return\u001b[0m\u001b[0;34m\u001b[0m\u001b[0;34m\u001b[0m\u001b[0m\n\u001b[1;32m     57\u001b[0m     \u001b[0mX\u001b[0m \u001b[0;34m=\u001b[0m \u001b[0mnp\u001b[0m\u001b[0;34m.\u001b[0m\u001b[0marray\u001b[0m\u001b[0;34m(\u001b[0m\u001b[0msequences\u001b[0m\u001b[0;34m)\u001b[0m\u001b[0;34m\u001b[0m\u001b[0;34m\u001b[0m\u001b[0m\n\u001b[0;32m---> 58\u001b[0;31m     \u001b[0my\u001b[0m \u001b[0;34m=\u001b[0m \u001b[0mto_categorical\u001b[0m\u001b[0;34m(\u001b[0m\u001b[0mlabels\u001b[0m\u001b[0;34m)\u001b[0m\u001b[0;34m\u001b[0m\u001b[0;34m\u001b[0m\u001b[0m\n\u001b[0m\u001b[1;32m     59\u001b[0m \u001b[0;34m\u001b[0m\u001b[0m\n\u001b[1;32m     60\u001b[0m     \u001b[0;32mreturn\u001b[0m \u001b[0mX\u001b[0m\u001b[0;34m,\u001b[0m \u001b[0my\u001b[0m\u001b[0;34m\u001b[0m\u001b[0;34m\u001b[0m\u001b[0m\n",
            "\u001b[0;32m/usr/local/lib/python3.10/dist-packages/keras/src/utils/numerical_utils.py\u001b[0m in \u001b[0;36mto_categorical\u001b[0;34m(x, num_classes)\u001b[0m\n\u001b[1;32m     93\u001b[0m     \u001b[0mx\u001b[0m \u001b[0;34m=\u001b[0m \u001b[0mx\u001b[0m\u001b[0;34m.\u001b[0m\u001b[0mreshape\u001b[0m\u001b[0;34m(\u001b[0m\u001b[0;34m-\u001b[0m\u001b[0;36m1\u001b[0m\u001b[0;34m)\u001b[0m\u001b[0;34m\u001b[0m\u001b[0;34m\u001b[0m\u001b[0m\n\u001b[1;32m     94\u001b[0m     \u001b[0;32mif\u001b[0m \u001b[0;32mnot\u001b[0m \u001b[0mnum_classes\u001b[0m\u001b[0;34m:\u001b[0m\u001b[0;34m\u001b[0m\u001b[0;34m\u001b[0m\u001b[0m\n\u001b[0;32m---> 95\u001b[0;31m         \u001b[0mnum_classes\u001b[0m \u001b[0;34m=\u001b[0m \u001b[0mnp\u001b[0m\u001b[0;34m.\u001b[0m\u001b[0mmax\u001b[0m\u001b[0;34m(\u001b[0m\u001b[0mx\u001b[0m\u001b[0;34m)\u001b[0m \u001b[0;34m+\u001b[0m \u001b[0;36m1\u001b[0m\u001b[0;34m\u001b[0m\u001b[0;34m\u001b[0m\u001b[0m\n\u001b[0m\u001b[1;32m     96\u001b[0m     \u001b[0mbatch_size\u001b[0m \u001b[0;34m=\u001b[0m \u001b[0mx\u001b[0m\u001b[0;34m.\u001b[0m\u001b[0mshape\u001b[0m\u001b[0;34m[\u001b[0m\u001b[0;36m0\u001b[0m\u001b[0;34m]\u001b[0m\u001b[0;34m\u001b[0m\u001b[0;34m\u001b[0m\u001b[0m\n\u001b[1;32m     97\u001b[0m     \u001b[0mcategorical\u001b[0m \u001b[0;34m=\u001b[0m \u001b[0mnp\u001b[0m\u001b[0;34m.\u001b[0m\u001b[0mzeros\u001b[0m\u001b[0;34m(\u001b[0m\u001b[0;34m(\u001b[0m\u001b[0mbatch_size\u001b[0m\u001b[0;34m,\u001b[0m \u001b[0mnum_classes\u001b[0m\u001b[0;34m)\u001b[0m\u001b[0;34m)\u001b[0m\u001b[0;34m\u001b[0m\u001b[0;34m\u001b[0m\u001b[0m\n",
            "\u001b[0;32m/usr/local/lib/python3.10/dist-packages/numpy/core/fromnumeric.py\u001b[0m in \u001b[0;36mmax\u001b[0;34m(a, axis, out, keepdims, initial, where)\u001b[0m\n\u001b[1;32m   2808\u001b[0m     \u001b[0;36m5\u001b[0m\u001b[0;34m\u001b[0m\u001b[0;34m\u001b[0m\u001b[0m\n\u001b[1;32m   2809\u001b[0m     \"\"\"\n\u001b[0;32m-> 2810\u001b[0;31m     return _wrapreduction(a, np.maximum, 'max', axis, None, out,\n\u001b[0m\u001b[1;32m   2811\u001b[0m                           keepdims=keepdims, initial=initial, where=where)\n\u001b[1;32m   2812\u001b[0m \u001b[0;34m\u001b[0m\u001b[0m\n",
            "\u001b[0;32m/usr/local/lib/python3.10/dist-packages/numpy/core/fromnumeric.py\u001b[0m in \u001b[0;36m_wrapreduction\u001b[0;34m(obj, ufunc, method, axis, dtype, out, **kwargs)\u001b[0m\n\u001b[1;32m     86\u001b[0m                 \u001b[0;32mreturn\u001b[0m \u001b[0mreduction\u001b[0m\u001b[0;34m(\u001b[0m\u001b[0maxis\u001b[0m\u001b[0;34m=\u001b[0m\u001b[0maxis\u001b[0m\u001b[0;34m,\u001b[0m \u001b[0mout\u001b[0m\u001b[0;34m=\u001b[0m\u001b[0mout\u001b[0m\u001b[0;34m,\u001b[0m \u001b[0;34m**\u001b[0m\u001b[0mpasskwargs\u001b[0m\u001b[0;34m)\u001b[0m\u001b[0;34m\u001b[0m\u001b[0;34m\u001b[0m\u001b[0m\n\u001b[1;32m     87\u001b[0m \u001b[0;34m\u001b[0m\u001b[0m\n\u001b[0;32m---> 88\u001b[0;31m     \u001b[0;32mreturn\u001b[0m \u001b[0mufunc\u001b[0m\u001b[0;34m.\u001b[0m\u001b[0mreduce\u001b[0m\u001b[0;34m(\u001b[0m\u001b[0mobj\u001b[0m\u001b[0;34m,\u001b[0m \u001b[0maxis\u001b[0m\u001b[0;34m,\u001b[0m \u001b[0mdtype\u001b[0m\u001b[0;34m,\u001b[0m \u001b[0mout\u001b[0m\u001b[0;34m,\u001b[0m \u001b[0;34m**\u001b[0m\u001b[0mpasskwargs\u001b[0m\u001b[0;34m)\u001b[0m\u001b[0;34m\u001b[0m\u001b[0;34m\u001b[0m\u001b[0m\n\u001b[0m\u001b[1;32m     89\u001b[0m \u001b[0;34m\u001b[0m\u001b[0m\n\u001b[1;32m     90\u001b[0m \u001b[0;34m\u001b[0m\u001b[0m\n",
            "\u001b[0;31mValueError\u001b[0m: zero-size array to reduction operation maximum which has no identity"
          ]
        }
      ],
      "source": [
        "# Run keypoint extraction for Train and Test datasets\n",
        "create_keypoint_arrays('/kaggle/working/Dataset/frames', 'Train/')\n",
        "create_keypoint_arrays('/kaggle/working/Dataset/frames', 'Test/')\n",
        "\n",
        "# Label mapping based on folder names\n",
        "label_map = {label: num for num, label in enumerate(os.listdir('/kaggle/working/Dataset/frames/Train'))}\n",
        "print(label_map)\n",
        "\n",
        "def preprocess_keypoints_data(data_directory, split_name, num_frames_to_average):\n",
        "    \"\"\"\n",
        "    Preprocess the keypoints data by loading sequences, adjusting their length, and preparing them for model input.\n",
        "    \"\"\"\n",
        "    sequences, labels = [], []\n",
        "\n",
        "    for word in tqdm(os.listdir(data_directory)):\n",
        "        print(f'data_dir {data_directory}')\n",
        "        print(f'\\n{word}\\n')\n",
        "        if word == 'Train' or word == 'Test':\n",
        "            continue\n",
        "        word_path = os.path.join(data_directory, split_name, word)\n",
        "        print(f'split name {split_name}')\n",
        "        print(f'word: {word}')\n",
        "        word_id = os.path.basename(word_path).zfill(4)\n",
        "\n",
        "        # Paths for keypoints\n",
        "        lh_folder = os.path.join(word_path, \"lh_keypoints\")\n",
        "        rh_folder = os.path.join(word_path, \"rh_keypoints\")\n",
        "        pose_folder = os.path.join(word_path, \"pose_keypoints\")\n",
        "\n",
        "        # Process each sequence for the word\n",
        "        for sequence_file in os.listdir(lh_folder):\n",
        "            left_hand_seq = np.load(os.path.join(lh_folder, sequence_file))\n",
        "            right_hand_seq = np.load(os.path.join(rh_folder, sequence_file))\n",
        "            pose_seq = np.load(os.path.join(pose_folder, sequence_file))\n",
        "\n",
        "            # Adjust the sequence length by truncating or padding\n",
        "            def adjust_sequence_length(sequence, target_length):\n",
        "                num_frames = sequence.shape[0]\n",
        "                sequence = sequence[:target_length]\n",
        "                while num_frames < target_length:\n",
        "                    sequence = np.concatenate((sequence, np.expand_dims(sequence[-1, :], axis=0)), axis=0)\n",
        "                    num_frames += 1\n",
        "                return sequence\n",
        "\n",
        "            left_hand_seq = adjust_sequence_length(left_hand_seq, num_frames_to_average)\n",
        "            right_hand_seq = adjust_sequence_length(right_hand_seq, num_frames_to_average)\n",
        "            pose_seq = adjust_sequence_length(pose_seq, num_frames_to_average)\n",
        "\n",
        "            # Combine the keypoints (pose + hands)\n",
        "            combined_sequence = np.concatenate((pose_seq, left_hand_seq, right_hand_seq), axis=1)\n",
        "            sequences.append(combined_sequence)\n",
        "\n",
        "            # Append label\n",
        "            labels.append(label_map[word])\n",
        "\n",
        "    # Convert to numpy arrays and return\n",
        "    X = np.array(sequences)\n",
        "    y = to_categorical(labels)\n",
        "\n",
        "    return X, y\n",
        "\n",
        "# Load and preprocess the data (train, validation, test)\n",
        "data_path = '/kaggle/working/Dataset/npy_arrays'\n",
        "\n",
        "X_train, y_train = preprocess_keypoints_data(data_path, 'Train/', 48)\n",
        "X_train, X_val, y_train, y_val = train_test_split(X_train, y_train, test_size=0.2, random_state=42)\n",
        "\n",
        "X_test, y_test = preprocess_keypoints_data(data_path, 'Test', 48)\n",
        "\n",
        "# Model architecture with Bidirectional LSTM\n",
        "model = tf.keras.Sequential([\n",
        "    tf.keras.layers.Bidirectional(tf.keras.layers.LSTM(64, return_sequences=True)),\n",
        "    tf.keras.layers.Bidirectional(tf.keras.layers.LSTM(64)),\n",
        "    tf.keras.layers.Dense(32, activation='relu'),\n",
        "    tf.keras.layers.Dense(len(os.listdir('/kaggle/working/Dataset/frames/Train')), activation='softmax')\n",
        "])\n",
        "\n",
        "# Compile the model\n",
        "model.compile(optimizer='adam', loss='categorical_crossentropy', metrics=['categorical_accuracy'])\n",
        "\n",
        "# Train the model\n",
        "model_training = model.fit(X_train, y_train, validation_data=(X_val, y_val), epochs=100, batch_size=32)\n",
        "\n",
        "# Evaluate the model\n",
        "model_eval_train = model.evaluate(X_train, y_train)\n",
        "model_eval_test = model.evaluate(X_test, y_test)\n",
        "\n",
        "# Save the model with current date and performance metrics\n",
        "date_time_format = '%Y_%m_%d__%H_%M_%S'\n",
        "current_time = dt.datetime.now().strftime(date_time_format)\n",
        "model_filename = f\"ASL_Model_{current_time}_Loss_{model_eval_train[0]}_Acc_{model_eval_train[1]}.h5\"\n",
        "os.makedirs('/kaggle/working/Model', exist_ok=True)\n",
        "model.save(f'/kaggle/working/Model/{model_filename}')\n",
        "\n",
        "# Evaluate performance and plot confusion matrix\n",
        "predictions = model.predict(X_test)\n",
        "y_true = np.argmax(y_test, axis=1)\n",
        "y_pred = np.argmax(predictions, axis=1)\n",
        "\n",
        "conf_matrix = confusion_matrix(y_true, y_pred)\n",
        "df_cm = pd.DataFrame(conf_matrix, index=label_map.keys(), columns=label_map.keys())\n",
        "\n",
        "# Visualize confusion matrix\n",
        "plt.figure(figsize=(10, 8))\n",
        "sns.heatmap(df_cm, annot=True, fmt='d', cmap='Blues', annot_kws={\"size\": 12})\n",
        "plt.title('Confusion Matrix')\n",
        "plt.show()"
      ]
    }
  ],
  "metadata": {
    "colab": {
      "provenance": []
    },
    "kernelspec": {
      "display_name": "Python 3",
      "name": "python3"
    },
    "language_info": {
      "codemirror_mode": {
        "name": "ipython",
        "version": 3
      },
      "file_extension": ".py",
      "mimetype": "text/x-python",
      "name": "python",
      "nbconvert_exporter": "python",
      "pygments_lexer": "ipython3",
      "version": "3.6.4"
    }
  },
  "nbformat": 4,
  "nbformat_minor": 0
}